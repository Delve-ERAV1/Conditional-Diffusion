{
  "cells": [
    {
      "cell_type": "code",
      "execution_count": null,
      "metadata": {},
      "outputs": [],
      "source": []
    },
    {
      "cell_type": "code",
      "execution_count": 27,
      "metadata": {
        "id": "9YsZ2Gfd5FKH"
      },
      "outputs": [],
      "source": [
        "! pip install -q kaggle\n",
        "! mkdir ~/.kaggle\n",
        "! cp kaggle.json ~/.kaggle/\n",
        "! chmod 600 ~/.kaggle/kaggle.json\n",
        "! pip install opendatasets\n",
        "! pip install datasets"
      ]
    },
    {
      "cell_type": "code",
      "execution_count": null,
      "metadata": {
        "id": "77decuws5XlA"
      },
      "outputs": [],
      "source": [
        "import opendatasets as od"
      ]
    },
    {
      "cell_type": "code",
      "execution_count": null,
      "metadata": {
        "id": "uyBMSj6D5qsW"
      },
      "outputs": [],
      "source": [
        "! pip install lightning dataclasses accelerate diffusers p_tqdm"
      ]
    },
    {
      "cell_type": "code",
      "execution_count": null,
      "metadata": {
        "colab": {
          "base_uri": "https://localhost:8080/"
        },
        "id": "Lx_Lieqm5UB3",
        "outputId": "8371839f-cc58-4c7d-d8b5-d3453b8bd342"
      },
      "outputs": [],
      "source": [
        "od.download(\n",
        "\t\"https://www.kaggle.com/datasets/mahmoudnoor/high-resolution-catdogbird-image-dataset-13000\")\n",
        "\n",
        "\n",
        "od.download(\n",
        "\t\"https://www.kaggle.com/datasets/joaopauloschuler/cifar10-64x64-resized-via-cai-super-resolution\")"
      ]
    },
    {
      "cell_type": "code",
      "execution_count": 1,
      "metadata": {
        "id": "uRYUwvqA5D-T"
      },
      "outputs": [
        {
          "name": "stderr",
          "output_type": "stream",
          "text": [
            "/opt/conda/lib/python3.10/site-packages/tqdm/auto.py:21: TqdmWarning: IProgress not found. Please update jupyter and ipywidgets. See https://ipywidgets.readthedocs.io/en/stable/user_install.html\n",
            "  from .autonotebook import tqdm as notebook_tqdm\n"
          ]
        }
      ],
      "source": [
        "import os\n",
        "import torch\n",
        "from torch import nn\n",
        "from tqdm import tqdm\n",
        "from PIL import Image\n",
        "from p_tqdm import p_map\n",
        "import lightning.pytorch as pl\n",
        "import torch.nn.functional as F\n",
        "from dataclasses import dataclass\n",
        "from accelerate import Accelerator\n",
        "from torchvision import transforms, datasets\n",
        "from torch.optim.lr_scheduler import OneCycleLR\n",
        "from torch.utils.data import DataLoader, random_split\n",
        "from lightning.pytorch.loggers import TensorBoardLogger\n",
        "from diffusers.optimization import get_cosine_schedule_with_warmup\n",
        "from diffusers import UNet2DConditionModel, AutoencoderKL, DDPMScheduler\n",
        "from lightning.pytorch.callbacks import LearningRateMonitor, ModelCheckpoint"
      ]
    },
    {
      "cell_type": "code",
      "execution_count": 11,
      "metadata": {},
      "outputs": [],
      "source": [
        "import random\n",
        "from lightning.pytorch.loggers import WandbLogger\n",
        "wandb_logger = WandbLogger(project=\"Diffusion-cat-dog-bird\", log_model=True, name='128-pretrained-unet')\n",
        "\n",
        "import torchvision.transforms as T\n",
        "transform = T.ToPILImage()"
      ]
    },
    {
      "cell_type": "code",
      "execution_count": 8,
      "metadata": {
        "id": "I0nBOH2j5D-X"
      },
      "outputs": [],
      "source": [
        "@dataclass\n",
        "class TrainingConfig:\n",
        "    image_size = 128  # the generated image resolution\n",
        "    train_batch_size = 64\n",
        "    eval_batch_size = train_batch_size  # how many images to sample during evaluation\n",
        "    num_epochs = 100\n",
        "    gradient_accumulation_steps = 1\n",
        "    learning_rate = 1e-4\n",
        "    lr_warmup_steps = 500\n",
        "    save_image_epochs = 10\n",
        "    num_workers = 12\n",
        "    save_model_epochs = 30\n",
        "    mixed_precision = 'fp16'  # `no` for float32, `fp16` for automatic mixed precision\n",
        "    output_dir = 'cat-dogs-birds'  # the model namy locally and on the HF Hub\n",
        "    accelerator = Accelerator(mixed_precision=mixed_precision, gradient_accumulation_steps=gradient_accumulation_steps)\n",
        "\n",
        "    push_to_hub = False  # whether to upload the saved model to the HF Hub\n",
        "    hub_private_repo = False\n",
        "    overwrite_output_dir = True  # overwrite the old model when re-running the notebook\n",
        "    seed = 0\n",
        "\n",
        "config = TrainingConfig()"
      ]
    },
    {
      "cell_type": "code",
      "execution_count": 9,
      "metadata": {},
      "outputs": [],
      "source": [
        "train_transform = transforms.Compose(\n",
        "            [\n",
        "                transforms.Resize((config.image_size, config.image_size)),\n",
        "                transforms.RandomHorizontalFlip(),\n",
        "                transforms.RandomRotation(10),\n",
        "                transforms.ToTensor(),\n",
        "                transforms.Normalize((0.5, 0.5, 0.5), (0.5, 0.5, 0.5)),\n",
        "            ]\n",
        "        )\n",
        "\n",
        "test_transform = transforms.Compose(\n",
        "            [\n",
        "                transforms.Resize((config.image_size, config.image_size)),\n",
        "                transforms.ToTensor(),\n",
        "                transforms.Normalize((0.5, 0.5, 0.5), (0.5, 0.5, 0.5)),\n",
        "            ]\n",
        "        )\n",
        "\n",
        "train_dataset = datasets.ImageFolder(root='high-resolution-catdogbird-image-dataset-13000', transform=test_transform)\n",
        "train_loader = DataLoader(train_dataset, batch_size=config.train_batch_size, shuffle=True, num_workers=config.num_workers)"
      ]
    },
    {
      "cell_type": "code",
      "execution_count": 17,
      "metadata": {
        "id": "BJk4Ikej5D-Z"
      },
      "outputs": [],
      "source": [
        "class DiffusionModel(pl.LightningModule):\n",
        "\n",
        "    def __init__(self, config):\n",
        "        super().__init__()\n",
        "        self.config = config\n",
        "\n",
        "        self.last_image = \"\"\n",
        "        self.label_projection = nn.Embedding(3, 768)\n",
        "\n",
        "        # Initialize UNet model\n",
        "        #self.unet = UNet_conditional(c_in=4, c_out=4, time_dim=256, num_classes=3, remove_deep_conv=False)\n",
        "        self.unet = UNet2DConditionModel.from_pretrained(\"CompVis/stable-diffusion-v1-4\", \n",
        "                                                          #revision=\"fp16\", torch_dtype=torch.float16,\n",
        "                                                          subfolder=\"unet\")\n",
        "\n",
        "        # self.unet = UNet2DConditionModel(\n",
        "        #             sample_size=16,  # the target image resolution\n",
        "        #             in_channels=4,  # the number of input channels, 3 for RGB images\n",
        "        #             out_channels=4,  # the number of output channels\n",
        "        #             layers_per_block=2,  # how many ResNet layers to use per UNet block\n",
        "        #             block_out_channels=(256, 256, 256, 512),  # the number of output channels for each UNet block , 256, 256, 512, 512\n",
        "        #             time_embedding_dim=256,\n",
        "        #             encoder_hid_dim=256,\n",
        "        #             transformer_layers_per_block=2,\n",
        "        #             down_block_types=(\n",
        "        #                 \"CrossAttnDownBlock2D\",  # a regular ResNet downsampling block\n",
        "        #                 \"CrossAttnDownBlock2D\",  # a ResNet downsampling block with spatial self-attention\n",
        "        #                 \"CrossAttnDownBlock2D\",\n",
        "        #                 \"DownBlock2D\",\n",
        "        #             ),\n",
        "        #             up_block_types=(\n",
        "        #                 \"UpBlock2D\",  # a regular ResNet upsampling block\n",
        "        #                 \"CrossAttnUpBlock2D\",  # a ResNet upsampling block with spatial self-attention\n",
        "        #                 \"CrossAttnUpBlock2D\",\n",
        "        #                 \"CrossAttnUpBlock2D\"\n",
        "        #             ),\n",
        "        #             mid_block_type=(\n",
        "        #                 \"UNetMidBlock2DCrossAttn\"\n",
        "        #             )\n",
        "        #         )\n",
        "\n",
        "        # Initialize VAE\n",
        "        self.vae = AutoencoderKL.from_pretrained(\"CompVis/stable-diffusion-v1-4\",\n",
        "                                                  revision=\"fp16\", torch_dtype=torch.float16,\n",
        "                                                  subfolder=\"vae\")\n",
        "\n",
        "        # Initialize noise scheduler\n",
        "        self.noise_scheduler = DDPMScheduler(num_train_timesteps=1000)\n",
        "\n",
        "    def forward(self, x, timesteps, hidden_embed):\n",
        "        # Forward pass through UNet\n",
        "        #noise_pred = self.unet(x, timesteps, hidden_embed)\n",
        "        noise_pred = self.unet(x, timesteps, encoder_hidden_states=hidden_embed.unsqueeze(1))[\"sample\"]\n",
        "        return noise_pred\n",
        "\n",
        "    def configure_optimizers(self):\n",
        "        optimizer = torch.optim.AdamW(self.unet.parameters(), lr=self.config.learning_rate)\n",
        "        scheduler = OneCycleLR(\n",
        "                        optimizer,\n",
        "                        max_lr=self.config.learning_rate,\n",
        "                        pct_start=6/self.trainer.max_epochs,\n",
        "                        epochs=self.trainer.max_epochs,\n",
        "                        steps_per_epoch=len(train_loader),\n",
        "                        anneal_strategy='cos',\n",
        "                        div_factor=100, #data_module.dataset.num_rows\n",
        "                        final_div_factor=10,\n",
        "                        #three_phase=True\n",
        "                )\n",
        "        return {'optimizer': optimizer,\n",
        "                'lr_scheduler': {'scheduler': scheduler, 'interval': 'step'}}\n",
        "        #return(optimizer)\n",
        "\n",
        "    def process_batch(self, batch):\n",
        "\n",
        "        clean_images, targets = batch\n",
        "\n",
        "        # Encode the clean images to obtain latent representations\n",
        "        with torch.no_grad():\n",
        "            clean_latent = self.vae.encode(clean_images.to(torch.float16)).latent_dist.sample()\n",
        "            clean_latent = ((clean_latent * 2) - 1) * 0.18215\n",
        "\n",
        "        # Sample noise to add to the images\n",
        "        noise = torch.randn(clean_latent.shape, device=self.device)\n",
        "\n",
        "        # Sample a random timestep for each image\n",
        "        bs = clean_images.size(0)\n",
        "        timesteps = torch.randint(0, self.noise_scheduler.num_train_timesteps, (bs,), device=self.device).long()\n",
        "\n",
        "        # Add noise to the clean latent representations (forward diffusion)\n",
        "        noisy_images = self.noise_scheduler.add_noise(clean_latent, noise, timesteps)\n",
        "\n",
        "        # Label Projection\n",
        "        target_embed = self.label_projection(targets)\n",
        "\n",
        "        # Predict the noise residual\n",
        "        noise_pred = self(noisy_images, timesteps, target_embed)  # Calls the forward method\n",
        "\n",
        "        # Compute the loss\n",
        "        loss = F.mse_loss(noise_pred, noise)\n",
        "\n",
        "        self.last_image = (clean_images[-1], targets[-1])\n",
        "\n",
        "        return loss\n",
        "\n",
        "    def training_step(self, batch, batch_idx):\n",
        "        loss = self.process_batch(batch)\n",
        "        self.log('train_loss', loss, on_step=True, on_epoch=True, prog_bar=True, logger=True)\n",
        "        return loss\n",
        "\n",
        "    # def validation_step(self, batch, batch_idx):\n",
        "    #     val_loss = self.process_batch(batch)\n",
        "    #     self.log('val_loss', val_loss, on_epoch=True, prog_bar=True, logger=True)\n",
        "    #     return val_loss\n",
        "    \n",
        "    def latents_to_pil(self, latents):\n",
        "        # batch of latents -> list of images\n",
        "        latents = (1 / 0.18215) * latents\n",
        "        with torch.no_grad():\n",
        "            image = self.vae.decode(latents.to(torch.float16)).sample\n",
        "        image = (image / 2 + 0.5).clamp(0, 1)\n",
        "        image = image.detach().cpu().permute(0, 2, 3, 1).numpy()\n",
        "        images = (image * 255).round().astype(\"uint8\")\n",
        "        pil_images = [Image.fromarray(image) for image in images][0]\n",
        "        return pil_images\n",
        "\n",
        "    def generate_and_save_images(self, current_epoch):\n",
        "        generator = torch.manual_seed(42)\n",
        "        noise = torch.randn(1, 4, 16, 16, generator=generator).cuda()\n",
        "        label = self.label_projection(torch.tensor(random.randint(0, 2)).cuda())\n",
        "        noise = noise * self.noise_scheduler.init_noise_sigma\n",
        "\n",
        "        for i, t in tqdm(enumerate(self.noise_scheduler.timesteps), total=len(self.noise_scheduler.timesteps)):\n",
        "            noise = self.noise_scheduler.scale_model_input(noise, t)\n",
        "\n",
        "            with torch.no_grad():\n",
        "                #noise_pred = self.unet(noise, torch.tensor(t).to(noise.device), torch.tensor([random.randint(0, 2)]).to(noise.device))\n",
        "                noise_pred = self.unet(noise, t, encoder_hidden_states=label.unsqueeze(0).unsqueeze(0))[\"sample\"]\n",
        "\n",
        "            noise = self.noise_scheduler.step(noise_pred, t.long(), noise).prev_sample\n",
        "\n",
        "        decoded_noise = self.latents_to_pil(noise)\n",
        "\n",
        "        # with torch.no_grad():\n",
        "        #     decoded_noise = diffusion_model.vae.decode(noise.to(torch.float16)).sample\n",
        "\n",
        "        #decoded_noise = transform(decoded_noise[0])\n",
        "\n",
        "        #decoded_noise = pil_images[0]\n",
        "        \n",
        "        # Save the generated images to a unique folder for the current epoch\n",
        "        save_dir = f\"generated_images/epoch_{current_epoch}\"\n",
        "        os.makedirs(save_dir, exist_ok=True)\n",
        "        \n",
        "        decoded_noise.save(os.path.join(save_dir, f\"image.png\"))\n",
        "        wandb_logger.log_image(key=f\"generated_epoch_{current_epoch}\", images=[decoded_noise])\n",
        "        #self.logger.log_image(f\"generated_epoch_{current_epoch}\", [decoded_noise,]) \n",
        "\n",
        "    def apply_transform(self, image):\n",
        "        image = (image / 2 + 0.5).clamp(0, 1)\n",
        "        image = image.detach().cpu().permute(0, 2, 3, 1).numpy()\n",
        "        images = (image * 255).round().astype(\"uint8\")\n",
        "        pil_images = [Image.fromarray(image) for image in images]\n",
        "        return(pil_images)\n",
        "    \n",
        "    def generate_visualize(self, current_epoch):\n",
        "        clean_images, targets = self.last_image\n",
        "        clean_images = clean_images.unsqueeze(0)\n",
        "\n",
        "        with torch.no_grad():\n",
        "            clean_latent = self.vae.encode(clean_images.to(torch.float16)).latent_dist.sample()\n",
        "            image = self.vae.decode(clean_latent.to(torch.float16)).sample\n",
        "            \n",
        "        save_dir = f\"coded_images/epoch_{current_epoch}\"\n",
        "        save_dir_orig = f\"original_images/epoch_{current_epoch}\"\n",
        "\n",
        "        clean_images = self.apply_transform(clean_images)[0]\n",
        "        image = self.apply_transform(image)[0]\n",
        "\n",
        "        os.makedirs(save_dir, exist_ok=True)\n",
        "        os.makedirs(save_dir_orig, exist_ok=True)\n",
        "\n",
        "        image.save(os.path.join(save_dir, f\"image.png\"))\n",
        "        clean_images.save(os.path.join(save_dir_orig, f\"image.png\"))\n",
        "            \n",
        "    def on_train_epoch_end(self):\n",
        "        self.generate_and_save_images(self.current_epoch)\n",
        "        #self.generate_visualize(self.current_epoch)\n",
        "\n",
        "diffusion_model = DiffusionModel(config)"
      ]
    },
    {
      "cell_type": "code",
      "execution_count": 18,
      "metadata": {
        "colab": {
          "base_uri": "https://localhost:8080/"
        },
        "id": "toYmJGk95D-a",
        "outputId": "ac61be9c-a935-4d35-da1a-f36a8a38e6ae"
      },
      "outputs": [
        {
          "name": "stderr",
          "output_type": "stream",
          "text": [
            "Using 16bit Automatic Mixed Precision (AMP)\n",
            "GPU available: True (cuda), used: True\n",
            "TPU available: False, using: 0 TPU cores\n",
            "IPU available: False, using: 0 IPUs\n",
            "HPU available: False, using: 0 HPUs\n"
          ]
        }
      ],
      "source": [
        "trainer = pl.Trainer(\n",
        "    precision='16-mixed' if config.mixed_precision=='fp16' else 32,  # Set precision\n",
        "    accelerator='auto',\n",
        "    devices='auto',\n",
        "    strategy='auto',\n",
        "    max_epochs=config.num_epochs,\n",
        "    logger=[TensorBoardLogger(\"logs/\", name=\"stable-diffusion\"), wandb_logger],\n",
        "    callbacks=[LearningRateMonitor(logging_interval=\"step\"), ModelCheckpoint(monitor=\"train_loss_epoch\", mode=\"min\")],\n",
        "    #limit_train_batches=0.3, \n",
        "    \n",
        ")\n",
        "torch.set_float32_matmul_precision('high')"
      ]
    },
    {
      "cell_type": "code",
      "execution_count": 19,
      "metadata": {
        "colab": {
          "base_uri": "https://localhost:8080/",
          "height": 465,
          "referenced_widgets": [
            "23566d56976540379802efe582b3c94d",
            "b901ad40a66a47f284cb22be25d5dbad",
            "a942a5a1a54b4cd49f6d67aac227e6ca",
            "66f341b1e795414eb18cd9d037a1e941",
            "fa535e733e82433fb70cf2702dc31555",
            "545d688da01044fc93c3757c0fce0fd4",
            "32a271d4f38d49d9abc308ae881e996a",
            "670c0d3bda414e02abd68e8cb10e3700",
            "5a200b8e59964542b51394ce8f4213cc",
            "1b368283c80c400a941caa8a80fd5eb4",
            "19fe3745885345b9ae56e9076be08521",
            "b964978b41564dbaa36b7955bf950b4e",
            "364faf31bcad4e5da5761570dea950e0",
            "50af040601334ac6989315c0f1d0fae8",
            "d6c7dcaf643048beb69222d322e8c2f2",
            "c248289ff0b04578b8b540eb804feecc",
            "63686c913d1949a8ba1303edcdf57e40",
            "980b8283283848d58dc07749ceb62776",
            "88c1991bca544ead9963ec85d67ce77f",
            "0881dcd83583466e8a1314295a5f84de",
            "78dc09a81b214a6c8fb7a215e7359a1a",
            "66ab55fda50148eea94e29d94c8c537a"
          ]
        },
        "id": "TMYE6ui-5D-a",
        "outputId": "396a979c-c529-4687-f968-07be15fa16cb"
      },
      "outputs": [
        {
          "name": "stderr",
          "output_type": "stream",
          "text": [
            "LOCAL_RANK: 0 - CUDA_VISIBLE_DEVICES: [0]\n",
            "\n",
            "  | Name             | Type                 | Params\n",
            "----------------------------------------------------------\n",
            "0 | label_projection | Embedding            | 2.3 K \n",
            "1 | unet             | UNet2DConditionModel | 859 M \n",
            "2 | vae              | AutoencoderKL        | 83.7 M\n",
            "----------------------------------------------------------\n",
            "943 M     Trainable params\n",
            "0         Non-trainable params\n",
            "943 M     Total params\n",
            "3,772.709 Total estimated model params size (MB)\n"
          ]
        },
        {
          "name": "stdout",
          "output_type": "stream",
          "text": [
            "Epoch 0: 100%|██████████| 209/209 [01:44<00:00,  2.01it/s, v_num=phgj, train_loss_step=0.355, train_loss_epoch=0.270]"
          ]
        },
        {
          "name": "stderr",
          "output_type": "stream",
          "text": [
            "100%|██████████| 1000/1000 [00:41<00:00, 24.26it/s]\n"
          ]
        },
        {
          "name": "stdout",
          "output_type": "stream",
          "text": [
            "Epoch 1:   0%|          | 0/209 [00:00<?, ?it/s, v_num=phgj, train_loss_step=0.355, train_loss_epoch=0.270]          "
          ]
        },
        {
          "name": "stderr",
          "output_type": "stream",
          "text": [
            "/opt/conda/lib/python3.10/site-packages/diffusers/configuration_utils.py:134: FutureWarning: Accessing config attribute `num_train_timesteps` directly via 'DDPMScheduler' object attribute is deprecated. Please access 'num_train_timesteps' over 'DDPMScheduler's config object instead, e.g. 'scheduler.config.num_train_timesteps'.\n",
            "  deprecate(\"direct config name access\", \"1.0.0\", deprecation_message, standard_warn=False)\n"
          ]
        },
        {
          "name": "stdout",
          "output_type": "stream",
          "text": [
            "Epoch 1: 100%|██████████| 209/209 [01:43<00:00,  2.02it/s, v_num=phgj, train_loss_step=0.220, train_loss_epoch=0.246]"
          ]
        },
        {
          "name": "stderr",
          "output_type": "stream",
          "text": [
            "100%|██████████| 1000/1000 [00:40<00:00, 24.40it/s]\n"
          ]
        },
        {
          "name": "stdout",
          "output_type": "stream",
          "text": [
            "Epoch 2: 100%|██████████| 209/209 [01:43<00:00,  2.02it/s, v_num=phgj, train_loss_step=0.209, train_loss_epoch=0.238]"
          ]
        },
        {
          "name": "stderr",
          "output_type": "stream",
          "text": [
            "100%|██████████| 1000/1000 [00:41<00:00, 24.32it/s]\n"
          ]
        },
        {
          "name": "stdout",
          "output_type": "stream",
          "text": [
            "Epoch 3: 100%|██████████| 209/209 [01:43<00:00,  2.01it/s, v_num=phgj, train_loss_step=0.194, train_loss_epoch=0.229]"
          ]
        },
        {
          "name": "stderr",
          "output_type": "stream",
          "text": [
            "100%|██████████| 1000/1000 [00:41<00:00, 24.35it/s]\n"
          ]
        },
        {
          "name": "stdout",
          "output_type": "stream",
          "text": [
            "Epoch 4: 100%|██████████| 209/209 [01:43<00:00,  2.02it/s, v_num=phgj, train_loss_step=0.179, train_loss_epoch=0.218]"
          ]
        },
        {
          "name": "stderr",
          "output_type": "stream",
          "text": [
            "100%|██████████| 1000/1000 [00:40<00:00, 24.39it/s]\n"
          ]
        },
        {
          "name": "stdout",
          "output_type": "stream",
          "text": [
            "Epoch 5: 100%|██████████| 209/209 [01:43<00:00,  2.02it/s, v_num=phgj, train_loss_step=0.164, train_loss_epoch=0.205]"
          ]
        },
        {
          "name": "stderr",
          "output_type": "stream",
          "text": [
            "100%|██████████| 1000/1000 [00:40<00:00, 24.43it/s]\n"
          ]
        },
        {
          "name": "stdout",
          "output_type": "stream",
          "text": [
            "Epoch 6: 100%|██████████| 209/209 [01:43<00:00,  2.01it/s, v_num=phgj, train_loss_step=0.145, train_loss_epoch=0.187]"
          ]
        },
        {
          "name": "stderr",
          "output_type": "stream",
          "text": [
            "100%|██████████| 1000/1000 [00:41<00:00, 24.34it/s]\n"
          ]
        },
        {
          "name": "stdout",
          "output_type": "stream",
          "text": [
            "Epoch 7: 100%|██████████| 209/209 [01:43<00:00,  2.01it/s, v_num=phgj, train_loss_step=0.126, train_loss_epoch=0.167]"
          ]
        },
        {
          "name": "stderr",
          "output_type": "stream",
          "text": [
            "100%|██████████| 1000/1000 [00:40<00:00, 24.44it/s]\n"
          ]
        },
        {
          "name": "stdout",
          "output_type": "stream",
          "text": [
            "Epoch 8: 100%|██████████| 209/209 [01:43<00:00,  2.01it/s, v_num=phgj, train_loss_step=0.107, train_loss_epoch=0.147]"
          ]
        },
        {
          "name": "stderr",
          "output_type": "stream",
          "text": [
            "100%|██████████| 1000/1000 [00:41<00:00, 24.31it/s]\n"
          ]
        },
        {
          "name": "stdout",
          "output_type": "stream",
          "text": [
            "Epoch 9: 100%|██████████| 209/209 [01:43<00:00,  2.02it/s, v_num=phgj, train_loss_step=0.0924, train_loss_epoch=0.129]"
          ]
        },
        {
          "name": "stderr",
          "output_type": "stream",
          "text": [
            "100%|██████████| 1000/1000 [00:41<00:00, 24.38it/s]\n"
          ]
        },
        {
          "name": "stdout",
          "output_type": "stream",
          "text": [
            "Epoch 10: 100%|██████████| 209/209 [01:43<00:00,  2.01it/s, v_num=phgj, train_loss_step=0.083, train_loss_epoch=0.114] "
          ]
        },
        {
          "name": "stderr",
          "output_type": "stream",
          "text": [
            "100%|██████████| 1000/1000 [00:40<00:00, 24.39it/s]\n"
          ]
        },
        {
          "name": "stdout",
          "output_type": "stream",
          "text": [
            "Epoch 11: 100%|██████████| 209/209 [01:43<00:00,  2.01it/s, v_num=phgj, train_loss_step=0.0754, train_loss_epoch=0.100]"
          ]
        },
        {
          "name": "stderr",
          "output_type": "stream",
          "text": [
            " 52%|█████▏    | 518/1000 [00:21<00:19, 24.30it/s]\n",
            "/opt/conda/lib/python3.10/site-packages/lightning/pytorch/trainer/call.py:54: Detected KeyboardInterrupt, attempting graceful shutdown...\n"
          ]
        }
      ],
      "source": [
        "trainer.fit(diffusion_model, train_loader)"
      ]
    },
    {
      "cell_type": "code",
      "execution_count": null,
      "metadata": {},
      "outputs": [],
      "source": [
        "diffusion_model = DiffusionModel.load_from_checkpoint('logs/stable-diffusion/version_0/checkpoints/epoch=7-step=320.ckpt', config=config)"
      ]
    },
    {
      "cell_type": "code",
      "execution_count": 10,
      "metadata": {},
      "outputs": [
        {
          "data": {
            "text/plain": [
              "device(type='cpu')"
            ]
          },
          "execution_count": 10,
          "metadata": {},
          "output_type": "execute_result"
        }
      ],
      "source": [
        "diffusion_model.device"
      ]
    },
    {
      "cell_type": "code",
      "execution_count": 11,
      "metadata": {},
      "outputs": [
        {
          "ename": "AttributeError",
          "evalue": "'Embedding' object has no attribute 'noise_scheduler'",
          "output_type": "error",
          "traceback": [
            "\u001b[0;31m---------------------------------------------------------------------------\u001b[0m",
            "\u001b[0;31mAttributeError\u001b[0m                            Traceback (most recent call last)",
            "\u001b[1;32m/root/diffusers/Stable_Diffusion_training_notebook3.ipynb Cell 15\u001b[0m line \u001b[0;36m4\n\u001b[1;32m      <a href='vscode-notebook-cell://ssh-remote%2Bvast.ai/root/diffusers/Stable_Diffusion_training_notebook3.ipynb#X22sdnNjb2RlLXJlbW90ZQ%3D%3D?line=1'>2</a>\u001b[0m diffusion_model \u001b[39m=\u001b[39m diffusion_model\u001b[39m.\u001b[39mlabel_projection\u001b[39m.\u001b[39mcuda()\n\u001b[1;32m      <a href='vscode-notebook-cell://ssh-remote%2Bvast.ai/root/diffusers/Stable_Diffusion_training_notebook3.ipynb#X22sdnNjb2RlLXJlbW90ZQ%3D%3D?line=2'>3</a>\u001b[0m noise \u001b[39m=\u001b[39m torch\u001b[39m.\u001b[39mrandn(\u001b[39m1\u001b[39m, \u001b[39m4\u001b[39m, \u001b[39m16\u001b[39m, \u001b[39m16\u001b[39m, generator\u001b[39m=\u001b[39mgenerator)\u001b[39m.\u001b[39mcuda()\n\u001b[0;32m----> <a href='vscode-notebook-cell://ssh-remote%2Bvast.ai/root/diffusers/Stable_Diffusion_training_notebook3.ipynb#X22sdnNjb2RlLXJlbW90ZQ%3D%3D?line=3'>4</a>\u001b[0m noise \u001b[39m=\u001b[39m noise \u001b[39m*\u001b[39m diffusion_model\u001b[39m.\u001b[39;49mnoise_scheduler\u001b[39m.\u001b[39minit_noise_sigma\n\u001b[1;32m      <a href='vscode-notebook-cell://ssh-remote%2Bvast.ai/root/diffusers/Stable_Diffusion_training_notebook3.ipynb#X22sdnNjb2RlLXJlbW90ZQ%3D%3D?line=4'>5</a>\u001b[0m label \u001b[39m=\u001b[39m diffusion_model\u001b[39m.\u001b[39mlabel_projection(torch\u001b[39m.\u001b[39mtensor(\u001b[39m2\u001b[39m)\u001b[39m.\u001b[39mcuda())\n\u001b[1;32m      <a href='vscode-notebook-cell://ssh-remote%2Bvast.ai/root/diffusers/Stable_Diffusion_training_notebook3.ipynb#X22sdnNjb2RlLXJlbW90ZQ%3D%3D?line=7'>8</a>\u001b[0m \u001b[39mfor\u001b[39;00m i, t \u001b[39min\u001b[39;00m tqdm(\u001b[39menumerate\u001b[39m(diffusion_model\u001b[39m.\u001b[39mnoise_scheduler\u001b[39m.\u001b[39mtimesteps), total\u001b[39m=\u001b[39m\u001b[39mlen\u001b[39m(diffusion_model\u001b[39m.\u001b[39mnoise_scheduler\u001b[39m.\u001b[39mtimesteps)):\n",
            "File \u001b[0;32m/opt/conda/lib/python3.10/site-packages/torch/nn/modules/module.py:1614\u001b[0m, in \u001b[0;36mModule.__getattr__\u001b[0;34m(self, name)\u001b[0m\n\u001b[1;32m   1612\u001b[0m     \u001b[39mif\u001b[39;00m name \u001b[39min\u001b[39;00m modules:\n\u001b[1;32m   1613\u001b[0m         \u001b[39mreturn\u001b[39;00m modules[name]\n\u001b[0;32m-> 1614\u001b[0m \u001b[39mraise\u001b[39;00m \u001b[39mAttributeError\u001b[39;00m(\u001b[39m\"\u001b[39m\u001b[39m'\u001b[39m\u001b[39m{}\u001b[39;00m\u001b[39m'\u001b[39m\u001b[39m object has no attribute \u001b[39m\u001b[39m'\u001b[39m\u001b[39m{}\u001b[39;00m\u001b[39m'\u001b[39m\u001b[39m\"\u001b[39m\u001b[39m.\u001b[39mformat(\n\u001b[1;32m   1615\u001b[0m     \u001b[39mtype\u001b[39m(\u001b[39mself\u001b[39m)\u001b[39m.\u001b[39m\u001b[39m__name__\u001b[39m, name))\n",
            "\u001b[0;31mAttributeError\u001b[0m: 'Embedding' object has no attribute 'noise_scheduler'"
          ]
        }
      ],
      "source": [
        "generator = torch.manual_seed(42)\n",
        "noise = torch.randn(1, 4, 16, 16, generator=generator).cuda()\n",
        "noise = noise * diffusion_model.noise_scheduler.init_noise_sigma\n",
        "label = diffusion_model.label_projection(torch.tensor(2).cuda())\n",
        "\n",
        "\n",
        "for i, t in tqdm(enumerate(diffusion_model.noise_scheduler.timesteps), total=len(diffusion_model.noise_scheduler.timesteps)):\n",
        "    noise = diffusion_model.noise_scheduler.scale_model_input(noise, t)\n",
        "\n",
        "    with torch.no_grad():\n",
        "        noise_pred = diffusion_model.unet(noise, t, encoder_hidden_states=label.unsqueeze(0).unsqueeze(0))[\"sample\"]\n",
        "\n",
        "    noise = diffusion_model.noise_scheduler.step(noise_pred, t.long(), noise).prev_sample"
      ]
    },
    {
      "cell_type": "code",
      "execution_count": null,
      "metadata": {},
      "outputs": [],
      "source": [
        "# from matplotlib import pyplot as plt\n",
        "\n",
        "# fig, axs = plt.subplots(1, 4, figsize=(16, 4))\n",
        "# for c in range(4):\n",
        "#     axs[c].imshow(noise[0][c].cpu(), cmap='Greys')"
      ]
    },
    {
      "cell_type": "code",
      "execution_count": null,
      "metadata": {},
      "outputs": [
        {
          "data": {
            "image/png": "[encoded data removed]",
            "text/plain": [
              "<PIL.Image.Image image mode=RGB size=128x128>"
            ]
          },
          "execution_count": 12,
          "metadata": {},
          "output_type": "execute_result"
        }
      ],
      "source": [
        "noise = (1 / 0.18215) * noise\n",
        "with torch.no_grad():\n",
        "    image = diffusion_model.vae.decode(noise).sample\n",
        "\n",
        "\n",
        "image = (image / 2 + 0.5).clamp(0, 1)\n",
        "image = image.detach().cpu().permute(0, 2, 3, 1).numpy()\n",
        "images = (image * 255).round().astype(\"uint8\")\n",
        "pil_images = [Image.fromarray(image) for image in images][0]\n",
        "pil_images"
      ]
    }
  ],
  "metadata": {
    "accelerator": "GPU",
    "colab": {
      "gpuType": "T4",
      "provenance": []
    },
    "kernelspec": {
      "display_name": "Python 3",
      "name": "python3"
    },
    "language_info": {
      "codemirror_mode": {
        "name": "ipython",
        "version": 3
      },
      "file_extension": ".py",
      "mimetype": "text/x-python",
      "name": "python",
      "nbconvert_exporter": "python",
      "pygments_lexer": "ipython3",
      "version": "3.10.11"
    },
    "widgets": {
      "application/vnd.jupyter.widget-state+json": {
        "0881dcd83583466e8a1314295a5f84de": {
          "model_module": "@jupyter-widgets/controls",
          "model_module_version": "1.5.0",
          "model_name": "ProgressStyleModel",
          "state": {
            "_model_module": "@jupyter-widgets/controls",
            "_model_module_version": "1.5.0",
            "_model_name": "ProgressStyleModel",
            "_view_count": null,
            "_view_module": "@jupyter-widgets/base",
            "_view_module_version": "1.2.0",
            "_view_name": "StyleView",
            "bar_color": null,
            "description_width": ""
          }
        },
        "19fe3745885345b9ae56e9076be08521": {
          "model_module": "@jupyter-widgets/controls",
          "model_module_version": "1.5.0",
          "model_name": "DescriptionStyleModel",
          "state": {
            "_model_module": "@jupyter-widgets/controls",
            "_model_module_version": "1.5.0",
            "_model_name": "DescriptionStyleModel",
            "_view_count": null,
            "_view_module": "@jupyter-widgets/base",
            "_view_module_version": "1.2.0",
            "_view_name": "StyleView",
            "description_width": ""
          }
        },
        "1b368283c80c400a941caa8a80fd5eb4": {
          "model_module": "@jupyter-widgets/base",
          "model_module_version": "1.2.0",
          "model_name": "LayoutModel",
          "state": {
            "_model_module": "@jupyter-widgets/base",
            "_model_module_version": "1.2.0",
            "_model_name": "LayoutModel",
            "_view_count": null,
            "_view_module": "@jupyter-widgets/base",
            "_view_module_version": "1.2.0",
            "_view_name": "LayoutView",
            "align_content": null,
            "align_items": null,
            "align_self": null,
            "border": null,
            "bottom": null,
            "display": null,
            "flex": null,
            "flex_flow": null,
            "grid_area": null,
            "grid_auto_columns": null,
            "grid_auto_flow": null,
            "grid_auto_rows": null,
            "grid_column": null,
            "grid_gap": null,
            "grid_row": null,
            "grid_template_areas": null,
            "grid_template_columns": null,
            "grid_template_rows": null,
            "height": null,
            "justify_content": null,
            "justify_items": null,
            "left": null,
            "margin": null,
            "max_height": null,
            "max_width": null,
            "min_height": null,
            "min_width": null,
            "object_fit": null,
            "object_position": null,
            "order": null,
            "overflow": null,
            "overflow_x": null,
            "overflow_y": null,
            "padding": null,
            "right": null,
            "top": null,
            "visibility": null,
            "width": null
          }
        },
        "23566d56976540379802efe582b3c94d": {
          "model_module": "@jupyter-widgets/controls",
          "model_module_version": "1.5.0",
          "model_name": "HBoxModel",
          "state": {
            "_dom_classes": [],
            "_model_module": "@jupyter-widgets/controls",
            "_model_module_version": "1.5.0",
            "_model_name": "HBoxModel",
            "_view_count": null,
            "_view_module": "@jupyter-widgets/controls",
            "_view_module_version": "1.5.0",
            "_view_name": "HBoxView",
            "box_style": "",
            "children": [
              "IPY_MODEL_b901ad40a66a47f284cb22be25d5dbad",
              "IPY_MODEL_a942a5a1a54b4cd49f6d67aac227e6ca",
              "IPY_MODEL_66f341b1e795414eb18cd9d037a1e941"
            ],
            "layout": "IPY_MODEL_fa535e733e82433fb70cf2702dc31555"
          }
        },
        "32a271d4f38d49d9abc308ae881e996a": {
          "model_module": "@jupyter-widgets/controls",
          "model_module_version": "1.5.0",
          "model_name": "DescriptionStyleModel",
          "state": {
            "_model_module": "@jupyter-widgets/controls",
            "_model_module_version": "1.5.0",
            "_model_name": "DescriptionStyleModel",
            "_view_count": null,
            "_view_module": "@jupyter-widgets/base",
            "_view_module_version": "1.2.0",
            "_view_name": "StyleView",
            "description_width": ""
          }
        },
        "364faf31bcad4e5da5761570dea950e0": {
          "model_module": "@jupyter-widgets/controls",
          "model_module_version": "1.5.0",
          "model_name": "HTMLModel",
          "state": {
            "_dom_classes": [],
            "_model_module": "@jupyter-widgets/controls",
            "_model_module_version": "1.5.0",
            "_model_name": "HTMLModel",
            "_view_count": null,
            "_view_module": "@jupyter-widgets/controls",
            "_view_module_version": "1.5.0",
            "_view_name": "HTMLView",
            "description": "",
            "description_tooltip": null,
            "layout": "IPY_MODEL_63686c913d1949a8ba1303edcdf57e40",
            "placeholder": "​",
            "style": "IPY_MODEL_980b8283283848d58dc07749ceb62776",
            "value": "Epoch 0:   0%"
          }
        },
        "50af040601334ac6989315c0f1d0fae8": {
          "model_module": "@jupyter-widgets/controls",
          "model_module_version": "1.5.0",
          "model_name": "FloatProgressModel",
          "state": {
            "_dom_classes": [],
            "_model_module": "@jupyter-widgets/controls",
            "_model_module_version": "1.5.0",
            "_model_name": "FloatProgressModel",
            "_view_count": null,
            "_view_module": "@jupyter-widgets/controls",
            "_view_module_version": "1.5.0",
            "_view_name": "ProgressView",
            "bar_style": "",
            "description": "",
            "description_tooltip": null,
            "layout": "IPY_MODEL_88c1991bca544ead9963ec85d67ce77f",
            "max": 6250,
            "min": 0,
            "orientation": "horizontal",
            "style": "IPY_MODEL_0881dcd83583466e8a1314295a5f84de",
            "value": 0
          }
        },
        "545d688da01044fc93c3757c0fce0fd4": {
          "model_module": "@jupyter-widgets/base",
          "model_module_version": "1.2.0",
          "model_name": "LayoutModel",
          "state": {
            "_model_module": "@jupyter-widgets/base",
            "_model_module_version": "1.2.0",
            "_model_name": "LayoutModel",
            "_view_count": null,
            "_view_module": "@jupyter-widgets/base",
            "_view_module_version": "1.2.0",
            "_view_name": "LayoutView",
            "align_content": null,
            "align_items": null,
            "align_self": null,
            "border": null,
            "bottom": null,
            "display": null,
            "flex": null,
            "flex_flow": null,
            "grid_area": null,
            "grid_auto_columns": null,
            "grid_auto_flow": null,
            "grid_auto_rows": null,
            "grid_column": null,
            "grid_gap": null,
            "grid_row": null,
            "grid_template_areas": null,
            "grid_template_columns": null,
            "grid_template_rows": null,
            "height": null,
            "justify_content": null,
            "justify_items": null,
            "left": null,
            "margin": null,
            "max_height": null,
            "max_width": null,
            "min_height": null,
            "min_width": null,
            "object_fit": null,
            "object_position": null,
            "order": null,
            "overflow": null,
            "overflow_x": null,
            "overflow_y": null,
            "padding": null,
            "right": null,
            "top": null,
            "visibility": null,
            "width": null
          }
        },
        "5a200b8e59964542b51394ce8f4213cc": {
          "model_module": "@jupyter-widgets/controls",
          "model_module_version": "1.5.0",
          "model_name": "ProgressStyleModel",
          "state": {
            "_model_module": "@jupyter-widgets/controls",
            "_model_module_version": "1.5.0",
            "_model_name": "ProgressStyleModel",
            "_view_count": null,
            "_view_module": "@jupyter-widgets/base",
            "_view_module_version": "1.2.0",
            "_view_name": "StyleView",
            "bar_color": null,
            "description_width": ""
          }
        },
        "63686c913d1949a8ba1303edcdf57e40": {
          "model_module": "@jupyter-widgets/base",
          "model_module_version": "1.2.0",
          "model_name": "LayoutModel",
          "state": {
            "_model_module": "@jupyter-widgets/base",
            "_model_module_version": "1.2.0",
            "_model_name": "LayoutModel",
            "_view_count": null,
            "_view_module": "@jupyter-widgets/base",
            "_view_module_version": "1.2.0",
            "_view_name": "LayoutView",
            "align_content": null,
            "align_items": null,
            "align_self": null,
            "border": null,
            "bottom": null,
            "display": null,
            "flex": null,
            "flex_flow": null,
            "grid_area": null,
            "grid_auto_columns": null,
            "grid_auto_flow": null,
            "grid_auto_rows": null,
            "grid_column": null,
            "grid_gap": null,
            "grid_row": null,
            "grid_template_areas": null,
            "grid_template_columns": null,
            "grid_template_rows": null,
            "height": null,
            "justify_content": null,
            "justify_items": null,
            "left": null,
            "margin": null,
            "max_height": null,
            "max_width": null,
            "min_height": null,
            "min_width": null,
            "object_fit": null,
            "object_position": null,
            "order": null,
            "overflow": null,
            "overflow_x": null,
            "overflow_y": null,
            "padding": null,
            "right": null,
            "top": null,
            "visibility": null,
            "width": null
          }
        },
        "66ab55fda50148eea94e29d94c8c537a": {
          "model_module": "@jupyter-widgets/controls",
          "model_module_version": "1.5.0",
          "model_name": "DescriptionStyleModel",
          "state": {
            "_model_module": "@jupyter-widgets/controls",
            "_model_module_version": "1.5.0",
            "_model_name": "DescriptionStyleModel",
            "_view_count": null,
            "_view_module": "@jupyter-widgets/base",
            "_view_module_version": "1.2.0",
            "_view_name": "StyleView",
            "description_width": ""
          }
        },
        "66f341b1e795414eb18cd9d037a1e941": {
          "model_module": "@jupyter-widgets/controls",
          "model_module_version": "1.5.0",
          "model_name": "HTMLModel",
          "state": {
            "_dom_classes": [],
            "_model_module": "@jupyter-widgets/controls",
            "_model_module_version": "1.5.0",
            "_model_name": "HTMLModel",
            "_view_count": null,
            "_view_module": "@jupyter-widgets/controls",
            "_view_module_version": "1.5.0",
            "_view_name": "HTMLView",
            "description": "",
            "description_tooltip": null,
            "layout": "IPY_MODEL_1b368283c80c400a941caa8a80fd5eb4",
            "placeholder": "​",
            "style": "IPY_MODEL_19fe3745885345b9ae56e9076be08521",
            "value": " 2/2 [00:01&lt;00:00,  1.06it/s]"
          }
        },
        "670c0d3bda414e02abd68e8cb10e3700": {
          "model_module": "@jupyter-widgets/base",
          "model_module_version": "1.2.0",
          "model_name": "LayoutModel",
          "state": {
            "_model_module": "@jupyter-widgets/base",
            "_model_module_version": "1.2.0",
            "_model_name": "LayoutModel",
            "_view_count": null,
            "_view_module": "@jupyter-widgets/base",
            "_view_module_version": "1.2.0",
            "_view_name": "LayoutView",
            "align_content": null,
            "align_items": null,
            "align_self": null,
            "border": null,
            "bottom": null,
            "display": null,
            "flex": "2",
            "flex_flow": null,
            "grid_area": null,
            "grid_auto_columns": null,
            "grid_auto_flow": null,
            "grid_auto_rows": null,
            "grid_column": null,
            "grid_gap": null,
            "grid_row": null,
            "grid_template_areas": null,
            "grid_template_columns": null,
            "grid_template_rows": null,
            "height": null,
            "justify_content": null,
            "justify_items": null,
            "left": null,
            "margin": null,
            "max_height": null,
            "max_width": null,
            "min_height": null,
            "min_width": null,
            "object_fit": null,
            "object_position": null,
            "order": null,
            "overflow": null,
            "overflow_x": null,
            "overflow_y": null,
            "padding": null,
            "right": null,
            "top": null,
            "visibility": null,
            "width": null
          }
        },
        "78dc09a81b214a6c8fb7a215e7359a1a": {
          "model_module": "@jupyter-widgets/base",
          "model_module_version": "1.2.0",
          "model_name": "LayoutModel",
          "state": {
            "_model_module": "@jupyter-widgets/base",
            "_model_module_version": "1.2.0",
            "_model_name": "LayoutModel",
            "_view_count": null,
            "_view_module": "@jupyter-widgets/base",
            "_view_module_version": "1.2.0",
            "_view_name": "LayoutView",
            "align_content": null,
            "align_items": null,
            "align_self": null,
            "border": null,
            "bottom": null,
            "display": null,
            "flex": null,
            "flex_flow": null,
            "grid_area": null,
            "grid_auto_columns": null,
            "grid_auto_flow": null,
            "grid_auto_rows": null,
            "grid_column": null,
            "grid_gap": null,
            "grid_row": null,
            "grid_template_areas": null,
            "grid_template_columns": null,
            "grid_template_rows": null,
            "height": null,
            "justify_content": null,
            "justify_items": null,
            "left": null,
            "margin": null,
            "max_height": null,
            "max_width": null,
            "min_height": null,
            "min_width": null,
            "object_fit": null,
            "object_position": null,
            "order": null,
            "overflow": null,
            "overflow_x": null,
            "overflow_y": null,
            "padding": null,
            "right": null,
            "top": null,
            "visibility": null,
            "width": null
          }
        },
        "88c1991bca544ead9963ec85d67ce77f": {
          "model_module": "@jupyter-widgets/base",
          "model_module_version": "1.2.0",
          "model_name": "LayoutModel",
          "state": {
            "_model_module": "@jupyter-widgets/base",
            "_model_module_version": "1.2.0",
            "_model_name": "LayoutModel",
            "_view_count": null,
            "_view_module": "@jupyter-widgets/base",
            "_view_module_version": "1.2.0",
            "_view_name": "LayoutView",
            "align_content": null,
            "align_items": null,
            "align_self": null,
            "border": null,
            "bottom": null,
            "display": null,
            "flex": "2",
            "flex_flow": null,
            "grid_area": null,
            "grid_auto_columns": null,
            "grid_auto_flow": null,
            "grid_auto_rows": null,
            "grid_column": null,
            "grid_gap": null,
            "grid_row": null,
            "grid_template_areas": null,
            "grid_template_columns": null,
            "grid_template_rows": null,
            "height": null,
            "justify_content": null,
            "justify_items": null,
            "left": null,
            "margin": null,
            "max_height": null,
            "max_width": null,
            "min_height": null,
            "min_width": null,
            "object_fit": null,
            "object_position": null,
            "order": null,
            "overflow": null,
            "overflow_x": null,
            "overflow_y": null,
            "padding": null,
            "right": null,
            "top": null,
            "visibility": null,
            "width": null
          }
        },
        "980b8283283848d58dc07749ceb62776": {
          "model_module": "@jupyter-widgets/controls",
          "model_module_version": "1.5.0",
          "model_name": "DescriptionStyleModel",
          "state": {
            "_model_module": "@jupyter-widgets/controls",
            "_model_module_version": "1.5.0",
            "_model_name": "DescriptionStyleModel",
            "_view_count": null,
            "_view_module": "@jupyter-widgets/base",
            "_view_module_version": "1.2.0",
            "_view_name": "StyleView",
            "description_width": ""
          }
        },
        "a942a5a1a54b4cd49f6d67aac227e6ca": {
          "model_module": "@jupyter-widgets/controls",
          "model_module_version": "1.5.0",
          "model_name": "FloatProgressModel",
          "state": {
            "_dom_classes": [],
            "_model_module": "@jupyter-widgets/controls",
            "_model_module_version": "1.5.0",
            "_model_name": "FloatProgressModel",
            "_view_count": null,
            "_view_module": "@jupyter-widgets/controls",
            "_view_module_version": "1.5.0",
            "_view_name": "ProgressView",
            "bar_style": "",
            "description": "",
            "description_tooltip": null,
            "layout": "IPY_MODEL_670c0d3bda414e02abd68e8cb10e3700",
            "max": 2,
            "min": 0,
            "orientation": "horizontal",
            "style": "IPY_MODEL_5a200b8e59964542b51394ce8f4213cc",
            "value": 2
          }
        },
        "b901ad40a66a47f284cb22be25d5dbad": {
          "model_module": "@jupyter-widgets/controls",
          "model_module_version": "1.5.0",
          "model_name": "HTMLModel",
          "state": {
            "_dom_classes": [],
            "_model_module": "@jupyter-widgets/controls",
            "_model_module_version": "1.5.0",
            "_model_name": "HTMLModel",
            "_view_count": null,
            "_view_module": "@jupyter-widgets/controls",
            "_view_module_version": "1.5.0",
            "_view_name": "HTMLView",
            "description": "",
            "description_tooltip": null,
            "layout": "IPY_MODEL_545d688da01044fc93c3757c0fce0fd4",
            "placeholder": "​",
            "style": "IPY_MODEL_32a271d4f38d49d9abc308ae881e996a",
            "value": "Sanity Checking DataLoader 0: 100%"
          }
        },
        "b964978b41564dbaa36b7955bf950b4e": {
          "model_module": "@jupyter-widgets/controls",
          "model_module_version": "1.5.0",
          "model_name": "HBoxModel",
          "state": {
            "_dom_classes": [],
            "_model_module": "@jupyter-widgets/controls",
            "_model_module_version": "1.5.0",
            "_model_name": "HBoxModel",
            "_view_count": null,
            "_view_module": "@jupyter-widgets/controls",
            "_view_module_version": "1.5.0",
            "_view_name": "HBoxView",
            "box_style": "",
            "children": [
              "IPY_MODEL_364faf31bcad4e5da5761570dea950e0",
              "IPY_MODEL_50af040601334ac6989315c0f1d0fae8",
              "IPY_MODEL_d6c7dcaf643048beb69222d322e8c2f2"
            ],
            "layout": "IPY_MODEL_c248289ff0b04578b8b540eb804feecc"
          }
        },
        "c248289ff0b04578b8b540eb804feecc": {
          "model_module": "@jupyter-widgets/base",
          "model_module_version": "1.2.0",
          "model_name": "LayoutModel",
          "state": {
            "_model_module": "@jupyter-widgets/base",
            "_model_module_version": "1.2.0",
            "_model_name": "LayoutModel",
            "_view_count": null,
            "_view_module": "@jupyter-widgets/base",
            "_view_module_version": "1.2.0",
            "_view_name": "LayoutView",
            "align_content": null,
            "align_items": null,
            "align_self": null,
            "border": null,
            "bottom": null,
            "display": "inline-flex",
            "flex": null,
            "flex_flow": "row wrap",
            "grid_area": null,
            "grid_auto_columns": null,
            "grid_auto_flow": null,
            "grid_auto_rows": null,
            "grid_column": null,
            "grid_gap": null,
            "grid_row": null,
            "grid_template_areas": null,
            "grid_template_columns": null,
            "grid_template_rows": null,
            "height": null,
            "justify_content": null,
            "justify_items": null,
            "left": null,
            "margin": null,
            "max_height": null,
            "max_width": null,
            "min_height": null,
            "min_width": null,
            "object_fit": null,
            "object_position": null,
            "order": null,
            "overflow": null,
            "overflow_x": null,
            "overflow_y": null,
            "padding": null,
            "right": null,
            "top": null,
            "visibility": null,
            "width": "100%"
          }
        },
        "d6c7dcaf643048beb69222d322e8c2f2": {
          "model_module": "@jupyter-widgets/controls",
          "model_module_version": "1.5.0",
          "model_name": "HTMLModel",
          "state": {
            "_dom_classes": [],
            "_model_module": "@jupyter-widgets/controls",
            "_model_module_version": "1.5.0",
            "_model_name": "HTMLModel",
            "_view_count": null,
            "_view_module": "@jupyter-widgets/controls",
            "_view_module_version": "1.5.0",
            "_view_name": "HTMLView",
            "description": "",
            "description_tooltip": null,
            "layout": "IPY_MODEL_78dc09a81b214a6c8fb7a215e7359a1a",
            "placeholder": "​",
            "style": "IPY_MODEL_66ab55fda50148eea94e29d94c8c537a",
            "value": " 0/6250 [00:00&lt;?, ?it/s]"
          }
        },
        "fa535e733e82433fb70cf2702dc31555": {
          "model_module": "@jupyter-widgets/base",
          "model_module_version": "1.2.0",
          "model_name": "LayoutModel",
          "state": {
            "_model_module": "@jupyter-widgets/base",
            "_model_module_version": "1.2.0",
            "_model_name": "LayoutModel",
            "_view_count": null,
            "_view_module": "@jupyter-widgets/base",
            "_view_module_version": "1.2.0",
            "_view_name": "LayoutView",
            "align_content": null,
            "align_items": null,
            "align_self": null,
            "border": null,
            "bottom": null,
            "display": "inline-flex",
            "flex": null,
            "flex_flow": "row wrap",
            "grid_area": null,
            "grid_auto_columns": null,
            "grid_auto_flow": null,
            "grid_auto_rows": null,
            "grid_column": null,
            "grid_gap": null,
            "grid_row": null,
            "grid_template_areas": null,
            "grid_template_columns": null,
            "grid_template_rows": null,
            "height": null,
            "justify_content": null,
            "justify_items": null,
            "left": null,
            "margin": null,
            "max_height": null,
            "max_width": null,
            "min_height": null,
            "min_width": null,
            "object_fit": null,
            "object_position": null,
            "order": null,
            "overflow": null,
            "overflow_x": null,
            "overflow_y": null,
            "padding": null,
            "right": null,
            "top": null,
            "visibility": "hidden",
            "width": "100%"
          }
        }
      }
    }
  },
  "nbformat": 4,
  "nbformat_minor": 0
}
