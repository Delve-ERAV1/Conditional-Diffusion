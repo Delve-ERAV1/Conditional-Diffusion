{
  "cells": [
    {
      "cell_type": "code",
      "execution_count": null,
      "metadata": {},
      "outputs": [],
      "source": []
    },
    {
      "cell_type": "code",
      "execution_count": 27,
      "metadata": {
        "id": "9YsZ2Gfd5FKH"
      },
      "outputs": [],
      "source": [
        "! pip install -q kaggle\n",
        "! mkdir ~/.kaggle\n",
        "! cp kaggle.json ~/.kaggle/\n",
        "! chmod 600 ~/.kaggle/kaggle.json\n",
        "! pip install opendatasets\n",
        "! pip install datasets"
      ]
    },
    {
      "cell_type": "code",
      "execution_count": null,
      "metadata": {
        "id": "77decuws5XlA"
      },
      "outputs": [],
      "source": [
        "import opendatasets as od"
      ]
    },
    {
      "cell_type": "code",
      "execution_count": null,
      "metadata": {
        "id": "uyBMSj6D5qsW"
      },
      "outputs": [],
      "source": [
        "! pip install lightning dataclasses accelerate diffusers p_tqdm"
      ]
    },
    {
      "cell_type": "code",
      "execution_count": null,
      "metadata": {
        "colab": {
          "base_uri": "https://localhost:8080/"
        },
        "id": "Lx_Lieqm5UB3",
        "outputId": "8371839f-cc58-4c7d-d8b5-d3453b8bd342"
      },
      "outputs": [],
      "source": [
        "od.download(\n",
        "\t\"https://www.kaggle.com/datasets/mahmoudnoor/high-resolution-catdogbird-image-dataset-13000\")\n",
        "\n",
        "\n",
        "od.download(\n",
        "\t\"https://www.kaggle.com/datasets/joaopauloschuler/cifar10-64x64-resized-via-cai-super-resolution\")"
      ]
    },
    {
      "cell_type": "code",
      "execution_count": 1,
      "metadata": {
        "id": "uRYUwvqA5D-T"
      },
      "outputs": [
        {
          "name": "stderr",
          "output_type": "stream",
          "text": [
            "/opt/conda/lib/python3.10/site-packages/tqdm/auto.py:21: TqdmWarning: IProgress not found. Please update jupyter and ipywidgets. See https://ipywidgets.readthedocs.io/en/stable/user_install.html\n",
            "  from .autonotebook import tqdm as notebook_tqdm\n"
          ]
        }
      ],
      "source": [
        "import os\n",
        "import torch\n",
        "from torch import nn\n",
        "from tqdm import tqdm\n",
        "from PIL import Image\n",
        "from p_tqdm import p_map\n",
        "import lightning.pytorch as pl\n",
        "import torch.nn.functional as F\n",
        "from dataclasses import dataclass\n",
        "from accelerate import Accelerator\n",
        "from torchvision import transforms, datasets\n",
        "from torch.optim.lr_scheduler import OneCycleLR\n",
        "from torch.utils.data import DataLoader, random_split\n",
        "from lightning.pytorch.loggers import TensorBoardLogger\n",
        "from diffusers.optimization import get_cosine_schedule_with_warmup\n",
        "#from diffusers import UNet2DConditionModel, AutoencoderKL, DDPMScheduler\n",
        "from lightning.pytorch.callbacks import LearningRateMonitor, ModelCheckpoint"
      ]
    },
    {
      "cell_type": "code",
      "execution_count": 2,
      "metadata": {},
      "outputs": [],
      "source": [
        "from diffusers import DDPMScheduler"
      ]
    },
    {
      "cell_type": "code",
      "execution_count": 3,
      "metadata": {},
      "outputs": [],
      "source": [
        "import random\n",
        "from lightning.pytorch.loggers import WandbLogger\n",
        "wandb_logger = WandbLogger(project=\"Diffusion-cat-dog-bird\", log_model=True, name='64-image-custom-ema')\n",
        "\n",
        "import torchvision.transforms as T\n",
        "transform = T.ToPILImage()\n",
        "\n",
        "import copy"
      ]
    },
    {
      "cell_type": "code",
      "execution_count": 4,
      "metadata": {
        "id": "I0nBOH2j5D-X"
      },
      "outputs": [
        {
          "name": "stderr",
          "output_type": "stream",
          "text": [
            "Detected kernel version 5.4.0, which is below the recommended minimum of 5.5.0; this can cause the process to hang. It is recommended to upgrade the kernel to the minimum version or higher.\n"
          ]
        }
      ],
      "source": [
        "@dataclass\n",
        "class TrainingConfig:\n",
        "    image_size = 64  # the generated image resolution\n",
        "    train_batch_size = 16\n",
        "    eval_batch_size = train_batch_size  # how many images to sample during evaluation\n",
        "    num_epochs = 100\n",
        "    gradient_accumulation_steps = 1\n",
        "    learning_rate = 1e-4\n",
        "    lr_warmup_steps = 500\n",
        "    save_image_epochs = 10\n",
        "    num_workers = 12\n",
        "    save_model_epochs = 30\n",
        "    mixed_precision = 'fp16'  # `no` for float32, `fp16` for automatic mixed precision\n",
        "    output_dir = 'cat-dogs-birds'  # the model namy locally and on the HF Hub\n",
        "    accelerator = Accelerator(mixed_precision=mixed_precision, gradient_accumulation_steps=gradient_accumulation_steps)\n",
        "\n",
        "    push_to_hub = False  # whether to upload the saved model to the HF Hub\n",
        "    hub_private_repo = False\n",
        "    overwrite_output_dir = True  # overwrite the old model when re-running the notebook\n",
        "    seed = 0\n",
        "\n",
        "config = TrainingConfig()"
      ]
    },
    {
      "cell_type": "code",
      "execution_count": 5,
      "metadata": {},
      "outputs": [],
      "source": [
        "train_transform = transforms.Compose(\n",
        "            [\n",
        "                transforms.Resize((config.image_size, config.image_size)),\n",
        "                transforms.RandomHorizontalFlip(),\n",
        "                transforms.RandomRotation(10),\n",
        "                transforms.ToTensor(),\n",
        "                transforms.Normalize((0.5, 0.5, 0.5), (0.5, 0.5, 0.5)),\n",
        "            ]\n",
        "        )\n",
        "\n",
        "test_transform = transforms.Compose(\n",
        "            [\n",
        "                transforms.Resize((config.image_size, config.image_size)),\n",
        "                transforms.ToTensor(),\n",
        "                transforms.Normalize((0.5, 0.5, 0.5), (0.5, 0.5, 0.5)),\n",
        "            ]\n",
        "        )\n",
        "\n",
        "train_dataset = datasets.ImageFolder(root='high-resolution-catdogbird-image-dataset-13000', transform=test_transform)\n",
        "train_loader = DataLoader(train_dataset, batch_size=config.train_batch_size, shuffle=True, num_workers=config.num_workers)"
      ]
    },
    {
      "cell_type": "code",
      "execution_count": 6,
      "metadata": {},
      "outputs": [],
      "source": [
        "\n",
        "class SelfAttention(nn.Module):\n",
        "    def __init__(self, channels):\n",
        "        super(SelfAttention, self).__init__()\n",
        "        self.channels = channels\n",
        "        self.mha = nn.MultiheadAttention(channels, 4, batch_first=True)\n",
        "        self.ln = nn.LayerNorm([channels])\n",
        "        self.ff_self = nn.Sequential(\n",
        "            nn.LayerNorm([channels]),\n",
        "            nn.Linear(channels, channels),\n",
        "            nn.GELU(),\n",
        "            nn.Linear(channels, channels),\n",
        "        )\n",
        "\n",
        "    def forward(self, x):\n",
        "        size = x.shape[-1]\n",
        "        x = x.view(-1, self.channels, size * size).swapaxes(1, 2)\n",
        "        x_ln = self.ln(x)\n",
        "        attention_value, _ = self.mha(x_ln, x_ln, x_ln)\n",
        "        attention_value = attention_value + x\n",
        "        attention_value = self.ff_self(attention_value) + attention_value\n",
        "        return attention_value.swapaxes(2, 1).view(-1, self.channels, size, size)\n",
        "\n",
        "\n",
        "class DoubleConv(nn.Module):\n",
        "    def __init__(self, in_channels, out_channels, mid_channels=None, residual=False):\n",
        "        super().__init__()\n",
        "        self.residual = residual\n",
        "        if not mid_channels:\n",
        "            mid_channels = out_channels\n",
        "        self.double_conv = nn.Sequential(\n",
        "            nn.Conv2d(in_channels, mid_channels, kernel_size=3, padding=1, bias=False),\n",
        "            nn.GroupNorm(1, mid_channels),\n",
        "            nn.GELU(),\n",
        "            nn.Conv2d(mid_channels, out_channels, kernel_size=3, padding=1, bias=False),\n",
        "            nn.GroupNorm(1, out_channels),\n",
        "        )\n",
        "\n",
        "    def forward(self, x):\n",
        "        if self.residual:\n",
        "            return F.gelu(x + self.double_conv(x))\n",
        "        else:\n",
        "            return self.double_conv(x)\n",
        "\n",
        "\n",
        "class Down(nn.Module):\n",
        "    def __init__(self, in_channels, out_channels, emb_dim=256):\n",
        "        super().__init__()\n",
        "        self.maxpool_conv = nn.Sequential(\n",
        "            nn.MaxPool2d(2),\n",
        "            DoubleConv(in_channels, in_channels, residual=True),\n",
        "            DoubleConv(in_channels, out_channels),\n",
        "        )\n",
        "\n",
        "        self.emb_layer = nn.Sequential(\n",
        "            nn.SiLU(),\n",
        "            nn.Linear(\n",
        "                emb_dim,\n",
        "                out_channels\n",
        "            ),\n",
        "        )\n",
        "\n",
        "    def forward(self, x, t):\n",
        "        x = self.maxpool_conv(x)\n",
        "        emb = self.emb_layer(t)[:, :, None, None].repeat(1, 1, x.shape[-2], x.shape[-1])\n",
        "        return x + emb\n",
        "\n",
        "\n",
        "class Up(nn.Module):\n",
        "    def __init__(self, in_channels, out_channels, emb_dim=256):\n",
        "        super().__init__()\n",
        "\n",
        "        self.up = nn.Upsample(scale_factor=2, mode=\"bilinear\", align_corners=True)\n",
        "        self.conv = nn.Sequential(\n",
        "            DoubleConv(in_channels, in_channels, residual=True),\n",
        "            DoubleConv(in_channels, out_channels, in_channels // 2),\n",
        "        )\n",
        "\n",
        "        self.emb_layer = nn.Sequential(\n",
        "            nn.SiLU(),\n",
        "            nn.Linear(\n",
        "                emb_dim,\n",
        "                out_channels\n",
        "            ),\n",
        "        )\n",
        "\n",
        "    def forward(self, x, skip_x, t):\n",
        "        x = self.up(x)\n",
        "        x = torch.cat([skip_x, x], dim=1)\n",
        "        x = self.conv(x)\n",
        "        emb = self.emb_layer(t)[:, :, None, None].repeat(1, 1, x.shape[-2], x.shape[-1])\n",
        "        return x + emb\n",
        "\n",
        "\n",
        "class UNet(nn.Module):\n",
        "    def __init__(self, c_in=3, c_out=3, time_dim=256, remove_deep_conv=False):\n",
        "        super().__init__()\n",
        "        self.time_dim = time_dim\n",
        "        self.remove_deep_conv = remove_deep_conv\n",
        "        self.inc = DoubleConv(c_in, 64)\n",
        "        self.down1 = Down(64, 128)\n",
        "        self.sa1 = SelfAttention(128)\n",
        "        self.down2 = Down(128, 256)\n",
        "        self.sa2 = SelfAttention(256)\n",
        "        self.down3 = Down(256, 256)\n",
        "        self.sa3 = SelfAttention(256)\n",
        "\n",
        "\n",
        "        if remove_deep_conv:\n",
        "            self.bot1 = DoubleConv(256, 256)\n",
        "            self.bot3 = DoubleConv(256, 256)\n",
        "        else:\n",
        "            self.bot1 = DoubleConv(256, 512)\n",
        "            self.bot2 = DoubleConv(512, 512)\n",
        "            self.bot3 = DoubleConv(512, 256)\n",
        "\n",
        "        self.up1 = Up(512, 128)\n",
        "        self.sa4 = SelfAttention(128)\n",
        "        self.up2 = Up(256, 64)\n",
        "        self.sa5 = SelfAttention(64)\n",
        "        self.up3 = Up(128, 64)\n",
        "        self.sa6 = SelfAttention(64)\n",
        "        self.outc = nn.Conv2d(64, c_out, kernel_size=1)\n",
        "\n",
        "    def pos_encoding(self, t, channels):\n",
        "        inv_freq = 1.0 / (\n",
        "            10000\n",
        "            ** (torch.arange(0, channels, 2, device=one_param(self).device).float() / channels)\n",
        "        )\n",
        "        pos_enc_a = torch.sin(t.repeat(1, channels // 2) * inv_freq)\n",
        "        pos_enc_b = torch.cos(t.repeat(1, channels // 2) * inv_freq)\n",
        "        pos_enc = torch.cat([pos_enc_a, pos_enc_b], dim=-1)\n",
        "        return pos_enc\n",
        "        \n",
        "\n",
        "    def unet_forwad(self, x, t):\n",
        "        x1 = self.inc(x)\n",
        "        x2 = self.down1(x1, t)\n",
        "        x2 = self.sa1(x2)\n",
        "        x3 = self.down2(x2, t)\n",
        "        x3 = self.sa2(x3)\n",
        "        x4 = self.down3(x3, t)\n",
        "        x4 = self.sa3(x4)\n",
        "\n",
        "        x4 = self.bot1(x4)\n",
        "        if not self.remove_deep_conv:\n",
        "            x4 = self.bot2(x4)\n",
        "        x4 = self.bot3(x4)\n",
        "\n",
        "        x = self.up1(x4, x3, t)\n",
        "        x = self.sa4(x)\n",
        "        x = self.up2(x, x2, t)\n",
        "        x = self.sa5(x)\n",
        "        x = self.up3(x, x1, t)\n",
        "        x = self.sa6(x)\n",
        "        output = self.outc(x)\n",
        "        return output\n",
        "\n",
        "    def forward(self, x, t):\n",
        "        t = t.unsqueeze(-1)\n",
        "        t = self.pos_encoding(t, self.time_dim)\n",
        "        return self.unet_forwad(x, t)\n",
        "\n",
        "\n",
        "class UNet_conditional(UNet):\n",
        "    def __init__(self, c_in=3, c_out=3, time_dim=256, num_classes=None, **kwargs):\n",
        "        super().__init__(c_in, c_out, time_dim, **kwargs)\n",
        "        if num_classes is not None:\n",
        "            self.label_emb = nn.Embedding(num_classes, time_dim)\n",
        "\n",
        "    def forward(self, x, t, y=None):\n",
        "        t = t.unsqueeze(-1)\n",
        "        t = self.pos_encoding(t, self.time_dim)\n",
        "\n",
        "        if y is not None:\n",
        "            t += self.label_emb(y)\n",
        "\n",
        "        return self.unet_forwad(x, t)\n",
        "\n",
        "\n",
        "def one_param(m):\n",
        "    \"get model first parameter\"\n",
        "    return next(iter(m.parameters()))\n",
        "\n",
        "\n",
        "unet = UNet_conditional(c_in=3, c_out=3, time_dim=256, num_classes=3, remove_deep_conv=False)"
      ]
    },
    {
      "cell_type": "code",
      "execution_count": 10,
      "metadata": {
        "id": "BJk4Ikej5D-Z"
      },
      "outputs": [],
      "source": [
        "class DiffusionModel(pl.LightningModule):\n",
        "\n",
        "    def __init__(self, config):\n",
        "        super().__init__()\n",
        "        self.config = config\n",
        "\n",
        "        self.last_image = \"\"\n",
        "        #self.label_projection = nn.Embedding(3, 64)\n",
        "\n",
        "        # Initialize UNet model\n",
        "        self.unet = unet\n",
        "\n",
        "        # Initialize noise scheduler\n",
        "        self.noise_scheduler = DDPMScheduler(num_train_timesteps=1000)\n",
        "\n",
        "        # Initialize EMA\n",
        "        self.ema_decay = 0.995  # You should define this in your config\n",
        "        self.ema_unet = copy.deepcopy(self.unet)\n",
        "        for param in self.ema_unet.parameters():\n",
        "            param.requires_grad_(False)\n",
        "\n",
        "    def update_ema(self):\n",
        "        with torch.no_grad():\n",
        "            model_params = dict(self.unet.named_parameters())\n",
        "            ema_params = dict(self.ema_unet.named_parameters())\n",
        "            for name in model_params:\n",
        "                model_param = model_params[name]\n",
        "                ema_param = ema_params[name]\n",
        "                ema_param.copy_(ema_param * self.ema_decay + (1.0 - self.ema_decay) * model_param)\n",
        "\n",
        "    def forward(self, x, timesteps, hidden_embed):\n",
        "        # Forward pass through UNet\n",
        "        noise_pred = self.unet(x, timesteps, hidden_embed)\n",
        "        #noise_pred = self.unet(x, timesteps, encoder_hidden_states=hidden_embed.unsqueeze(1))[\"sample\"]\n",
        "        return noise_pred\n",
        "\n",
        "    def configure_optimizers(self):\n",
        "        optimizer = torch.optim.AdamW(self.unet.parameters(), lr=self.config.learning_rate)\n",
        "        scheduler = OneCycleLR(\n",
        "                        optimizer,\n",
        "                        max_lr=self.config.learning_rate,\n",
        "                        pct_start=6/self.trainer.max_epochs,\n",
        "                        epochs=self.trainer.max_epochs,\n",
        "                        steps_per_epoch=len(train_loader),\n",
        "                        anneal_strategy='cos',\n",
        "                        div_factor=100, #data_module.dataset.num_rows\n",
        "                        final_div_factor=10,\n",
        "                        #three_phase=True\n",
        "                )\n",
        "        return {'optimizer': optimizer,\n",
        "                'lr_scheduler': {'scheduler': scheduler, 'interval': 'step'}}\n",
        "        #return(optimizer)\n",
        "\n",
        "    def process_batch(self, batch):\n",
        "\n",
        "        clean_images, targets = batch\n",
        "\n",
        "        # Encode the clean images to obtain latent representations\n",
        "        # with torch.no_grad():\n",
        "        #     clean_latent = self.vae.encode(clean_images.to(torch.float16)).latent_dist.sample()\n",
        "        #     clean_latent = ((clean_latent * 2) - 1) * 0.18215\n",
        "\n",
        "        clean_latent = clean_images\n",
        "\n",
        "        # Sample noise to add to the images\n",
        "        noise = torch.randn(clean_latent.shape, device=self.device)\n",
        "\n",
        "        # Sample a random timestep for each image\n",
        "        bs = clean_images.size(0)\n",
        "        timesteps = torch.randint(0, self.noise_scheduler.num_train_timesteps, (bs,), device=self.device).long()\n",
        "\n",
        "        # Add noise to the clean latent representations (forward diffusion)\n",
        "        noisy_images = self.noise_scheduler.add_noise(clean_latent, noise, timesteps)\n",
        "\n",
        "        # Label Projection\n",
        "        #target_embed = self.label_projection(targets)\n",
        "\n",
        "        # Predict the noise residual\n",
        "        noise_pred = self(noisy_images, timesteps, targets)  # Calls the forward method\n",
        "\n",
        "        # Compute the loss\n",
        "        loss = F.mse_loss(noise_pred, noise)\n",
        "\n",
        "        self.last_image = (clean_images[-1], targets[-1])\n",
        "\n",
        "        return loss\n",
        "\n",
        "    def training_step(self, batch, batch_idx):\n",
        "        loss = self.process_batch(batch)\n",
        "        self.log('train_loss', loss, on_step=True, on_epoch=True, prog_bar=True, logger=True)\n",
        "        self.update_ema()\n",
        "        return loss\n",
        "\n",
        "    # def validation_step(self, batch, batch_idx):\n",
        "    #     val_loss = self.process_batch(batch)\n",
        "    #     self.log('val_loss', val_loss, on_epoch=True, prog_bar=True, logger=True)\n",
        "    #     return val_loss\n",
        "    \n",
        "    def latents_to_pil(self, latents):\n",
        "        # batch of latents -> list of images\n",
        "        # latents = (1 / 0.18215) * latents\n",
        "        # with torch.no_grad():\n",
        "        #     image = self.vae.decode(latents.to(torch.float16)).sample\n",
        "\n",
        "        image = latents\n",
        "        image = (image / 2 + 0.5).clamp(0, 1)\n",
        "        image = image.detach().cpu().permute(0, 2, 3, 1).numpy()\n",
        "        images = (image * 255).round().astype(\"uint8\")\n",
        "        pil_images = [Image.fromarray(image) for image in images][0]\n",
        "        return pil_images\n",
        "\n",
        "    def generate_and_save_images(self, current_epoch):\n",
        "        generator = torch.manual_seed(42)\n",
        "        noise = torch.randn(1, 3, config.image_size, config.image_size, generator=generator).cuda()\n",
        "        #label = self.label_projection(torch.tensor(random.randint(0, 2)).cuda())\n",
        "        noise = noise * self.noise_scheduler.init_noise_sigma\n",
        "\n",
        "        for i, t in tqdm(enumerate(self.noise_scheduler.timesteps), total=len(self.noise_scheduler.timesteps)):\n",
        "            noise = self.noise_scheduler.scale_model_input(noise, t)\n",
        "\n",
        "            with torch.no_grad():\n",
        "                noise_pred = self.unet(noise, torch.tensor(t).to(noise.device), torch.tensor([random.randint(0, 2)]).to(noise.device))\n",
        "                #noise_pred = self.unet(noise, t, encoder_hidden_states=label.unsqueeze(0).unsqueeze(0))[\"sample\"]\n",
        "\n",
        "            noise = self.noise_scheduler.step(noise_pred, t.long(), noise).prev_sample\n",
        "\n",
        "        decoded_noise = self.latents_to_pil(noise)\n",
        "\n",
        "        # with torch.no_grad():\n",
        "        #     decoded_noise = diffusion_model.vae.decode(noise.to(torch.float16)).sample\n",
        "\n",
        "        #decoded_noise = transform(decoded_noise[0])\n",
        "\n",
        "        #decoded_noise = pil_images[0]\n",
        "        \n",
        "        # Save the generated images to a unique folder for the current epoch\n",
        "        save_dir = f\"generated_images/epoch_{current_epoch}\"\n",
        "        os.makedirs(save_dir, exist_ok=True)\n",
        "        \n",
        "        decoded_noise.save(os.path.join(save_dir, f\"image.png\"))\n",
        "        wandb_logger.log_image(key=f\"generated_epoch_{current_epoch}\", images=[decoded_noise])\n",
        "        #self.logger.log_image(f\"generated_epoch_{current_epoch}\", [decoded_noise,]) \n",
        "\n",
        "    def apply_transform(self, image):\n",
        "        image = (image / 2 + 0.5).clamp(0, 1)\n",
        "        image = image.detach().cpu().permute(0, 2, 3, 1).numpy()\n",
        "        images = (image * 255).round().astype(\"uint8\")\n",
        "        pil_images = [Image.fromarray(image) for image in images]\n",
        "        return(pil_images)\n",
        "    \n",
        "    def generate_visualize(self, current_epoch):\n",
        "        clean_images, targets = self.last_image\n",
        "        clean_images = clean_images.unsqueeze(0)\n",
        "\n",
        "        with torch.no_grad():\n",
        "            clean_latent = self.vae.encode(clean_images.to(torch.float16)).latent_dist.sample()\n",
        "            image = self.vae.decode(clean_latent.to(torch.float16)).sample\n",
        "            \n",
        "        save_dir = f\"coded_images/epoch_{current_epoch}\"\n",
        "        save_dir_orig = f\"original_images/epoch_{current_epoch}\"\n",
        "\n",
        "        clean_images = self.apply_transform(clean_images)[0]\n",
        "        image = self.apply_transform(image)[0]\n",
        "\n",
        "        os.makedirs(save_dir, exist_ok=True)\n",
        "        os.makedirs(save_dir_orig, exist_ok=True)\n",
        "\n",
        "        image.save(os.path.join(save_dir, f\"image.png\"))\n",
        "        clean_images.save(os.path.join(save_dir_orig, f\"image.png\"))\n",
        "            \n",
        "    def on_train_epoch_end(self):\n",
        "        self.generate_and_save_images(self.current_epoch)\n",
        "        #self.generate_visualize(self.current_epoch)\n",
        "\n",
        "diffusion_model = DiffusionModel(config)"
      ]
    },
    {
      "cell_type": "code",
      "execution_count": 11,
      "metadata": {
        "colab": {
          "base_uri": "https://localhost:8080/"
        },
        "id": "toYmJGk95D-a",
        "outputId": "ac61be9c-a935-4d35-da1a-f36a8a38e6ae"
      },
      "outputs": [
        {
          "name": "stderr",
          "output_type": "stream",
          "text": [
            "Using 16bit Automatic Mixed Precision (AMP)\n",
            "GPU available: True (cuda), used: True\n",
            "TPU available: False, using: 0 TPU cores\n",
            "IPU available: False, using: 0 IPUs\n",
            "HPU available: False, using: 0 HPUs\n"
          ]
        }
      ],
      "source": [
        "trainer = pl.Trainer(\n",
        "    precision='16-mixed' if config.mixed_precision=='fp16' else 32,  # Set precision\n",
        "    accelerator='auto',\n",
        "    devices='auto',\n",
        "    strategy='auto',\n",
        "    max_epochs=config.num_epochs,\n",
        "    logger=[TensorBoardLogger(\"logs/\", name=\"stable-diffusion\"), wandb_logger],\n",
        "    callbacks=[LearningRateMonitor(logging_interval=\"step\"), ModelCheckpoint(monitor=\"train_loss_epoch\", mode=\"min\")],\n",
        "    #limit_train_batches=0.3, \n",
        "    \n",
        ")\n",
        "torch.set_float32_matmul_precision('high')"
      ]
    },
    {
      "cell_type": "code",
      "execution_count": 12,
      "metadata": {
        "colab": {
          "base_uri": "https://localhost:8080/",
          "height": 465,
          "referenced_widgets": [
            "23566d56976540379802efe582b3c94d",
            "b901ad40a66a47f284cb22be25d5dbad",
            "a942a5a1a54b4cd49f6d67aac227e6ca",
            "66f341b1e795414eb18cd9d037a1e941",
            "fa535e733e82433fb70cf2702dc31555",
            "545d688da01044fc93c3757c0fce0fd4",
            "32a271d4f38d49d9abc308ae881e996a",
            "670c0d3bda414e02abd68e8cb10e3700",
            "5a200b8e59964542b51394ce8f4213cc",
            "1b368283c80c400a941caa8a80fd5eb4",
            "19fe3745885345b9ae56e9076be08521",
            "b964978b41564dbaa36b7955bf950b4e",
            "364faf31bcad4e5da5761570dea950e0",
            "50af040601334ac6989315c0f1d0fae8",
            "d6c7dcaf643048beb69222d322e8c2f2",
            "c248289ff0b04578b8b540eb804feecc",
            "63686c913d1949a8ba1303edcdf57e40",
            "980b8283283848d58dc07749ceb62776",
            "88c1991bca544ead9963ec85d67ce77f",
            "0881dcd83583466e8a1314295a5f84de",
            "78dc09a81b214a6c8fb7a215e7359a1a",
            "66ab55fda50148eea94e29d94c8c537a"
          ]
        },
        "id": "TMYE6ui-5D-a",
        "outputId": "396a979c-c529-4687-f968-07be15fa16cb"
      },
      "outputs": [
        {
          "name": "stderr",
          "output_type": "stream",
          "text": [
            "LOCAL_RANK: 0 - CUDA_VISIBLE_DEVICES: [0]\n",
            "\n",
            "  | Name     | Type             | Params\n",
            "----------------------------------------------\n",
            "0 | unet     | UNet_conditional | 23.3 M\n",
            "1 | ema_unet | UNet_conditional | 23.3 M\n",
            "----------------------------------------------\n",
            "23.3 M    Trainable params\n",
            "23.3 M    Non-trainable params\n",
            "46.7 M    Total params\n",
            "186.668   Total estimated model params size (MB)\n"
          ]
        },
        {
          "name": "stdout",
          "output_type": "stream",
          "text": [
            "Epoch 0: 100%|██████████| 834/834 [01:50<00:00,  7.54it/s, v_num=8jcv, train_loss_step=0.100, train_loss_epoch=0.171]"
          ]
        },
        {
          "name": "stderr",
          "output_type": "stream",
          "text": [
            "/tmp/ipykernel_14438/2991099968.py:122: UserWarning: To copy construct from a tensor, it is recommended to use sourceTensor.clone().detach() or sourceTensor.clone().detach().requires_grad_(True), rather than torch.tensor(sourceTensor).\n",
            "  noise_pred = self.unet(noise, torch.tensor(t).to(noise.device), torch.tensor([random.randint(0, 2)]).to(noise.device))\n",
            "100%|██████████| 1000/1000 [00:07<00:00, 125.49it/s]\n"
          ]
        },
        {
          "name": "stdout",
          "output_type": "stream",
          "text": [
            "Epoch 1:   0%|          | 1/834 [00:01<18:03,  0.77it/s, v_num=8jcv, train_loss_step=0.145, train_loss_epoch=0.171]  "
          ]
        },
        {
          "name": "stderr",
          "output_type": "stream",
          "text": [
            "/opt/conda/lib/python3.10/site-packages/diffusers/configuration_utils.py:134: FutureWarning: Accessing config attribute `num_train_timesteps` directly via 'DDPMScheduler' object attribute is deprecated. Please access 'num_train_timesteps' over 'DDPMScheduler's config object instead, e.g. 'scheduler.config.num_train_timesteps'.\n",
            "  deprecate(\"direct config name access\", \"1.0.0\", deprecation_message, standard_warn=False)\n"
          ]
        },
        {
          "name": "stdout",
          "output_type": "stream",
          "text": [
            "Epoch 1: 100%|██████████| 834/834 [01:51<00:00,  7.47it/s, v_num=8jcv, train_loss_step=0.0783, train_loss_epoch=0.104]"
          ]
        },
        {
          "name": "stderr",
          "output_type": "stream",
          "text": [
            "/tmp/ipykernel_14438/2991099968.py:122: UserWarning: To copy construct from a tensor, it is recommended to use sourceTensor.clone().detach() or sourceTensor.clone().detach().requires_grad_(True), rather than torch.tensor(sourceTensor).\n",
            "  noise_pred = self.unet(noise, torch.tensor(t).to(noise.device), torch.tensor([random.randint(0, 2)]).to(noise.device))\n",
            "100%|██████████| 1000/1000 [00:07<00:00, 128.54it/s]\n"
          ]
        },
        {
          "name": "stdout",
          "output_type": "stream",
          "text": [
            "Epoch 2: 100%|██████████| 834/834 [01:51<00:00,  7.48it/s, v_num=8jcv, train_loss_step=0.0506, train_loss_epoch=0.0692]"
          ]
        },
        {
          "name": "stderr",
          "output_type": "stream",
          "text": [
            "100%|██████████| 1000/1000 [00:07<00:00, 128.06it/s]\n"
          ]
        },
        {
          "name": "stdout",
          "output_type": "stream",
          "text": [
            "Epoch 3: 100%|██████████| 834/834 [01:51<00:00,  7.45it/s, v_num=8jcv, train_loss_step=0.041, train_loss_epoch=0.0515] "
          ]
        },
        {
          "name": "stderr",
          "output_type": "stream",
          "text": [
            "100%|██████████| 1000/1000 [00:07<00:00, 128.63it/s]\n"
          ]
        },
        {
          "name": "stdout",
          "output_type": "stream",
          "text": [
            "Epoch 4: 100%|██████████| 834/834 [01:52<00:00,  7.45it/s, v_num=8jcv, train_loss_step=0.034, train_loss_epoch=0.0436] "
          ]
        },
        {
          "name": "stderr",
          "output_type": "stream",
          "text": [
            "100%|██████████| 1000/1000 [00:07<00:00, 128.95it/s]\n"
          ]
        },
        {
          "name": "stdout",
          "output_type": "stream",
          "text": [
            "Epoch 5: 100%|██████████| 834/834 [01:51<00:00,  7.47it/s, v_num=8jcv, train_loss_step=0.0307, train_loss_epoch=0.0392] "
          ]
        },
        {
          "name": "stderr",
          "output_type": "stream",
          "text": [
            "100%|██████████| 1000/1000 [00:07<00:00, 128.40it/s]\n"
          ]
        },
        {
          "name": "stdout",
          "output_type": "stream",
          "text": [
            "Epoch 6: 100%|██████████| 834/834 [01:51<00:00,  7.49it/s, v_num=8jcv, train_loss_step=0.0282, train_loss_epoch=0.0364] "
          ]
        },
        {
          "name": "stderr",
          "output_type": "stream",
          "text": [
            "100%|██████████| 1000/1000 [00:07<00:00, 130.88it/s]\n"
          ]
        },
        {
          "name": "stdout",
          "output_type": "stream",
          "text": [
            "Epoch 7: 100%|██████████| 834/834 [01:51<00:00,  7.47it/s, v_num=8jcv, train_loss_step=0.0269, train_loss_epoch=0.0346] "
          ]
        },
        {
          "name": "stderr",
          "output_type": "stream",
          "text": [
            "100%|██████████| 1000/1000 [00:07<00:00, 129.38it/s]\n"
          ]
        },
        {
          "name": "stdout",
          "output_type": "stream",
          "text": [
            "Epoch 8: 100%|██████████| 834/834 [01:51<00:00,  7.47it/s, v_num=8jcv, train_loss_step=0.026, train_loss_epoch=0.0331]  "
          ]
        },
        {
          "name": "stderr",
          "output_type": "stream",
          "text": [
            "100%|██████████| 1000/1000 [00:07<00:00, 127.82it/s]\n"
          ]
        },
        {
          "name": "stdout",
          "output_type": "stream",
          "text": [
            "Epoch 9: 100%|██████████| 834/834 [01:51<00:00,  7.48it/s, v_num=8jcv, train_loss_step=0.0252, train_loss_epoch=0.032]  "
          ]
        },
        {
          "name": "stderr",
          "output_type": "stream",
          "text": [
            "100%|██████████| 1000/1000 [00:07<00:00, 130.26it/s]\n"
          ]
        },
        {
          "name": "stdout",
          "output_type": "stream",
          "text": [
            "Epoch 10: 100%|██████████| 834/834 [01:51<00:00,  7.47it/s, v_num=8jcv, train_loss_step=0.0247, train_loss_epoch=0.0311]"
          ]
        },
        {
          "name": "stderr",
          "output_type": "stream",
          "text": [
            "100%|██████████| 1000/1000 [00:07<00:00, 130.69it/s]\n"
          ]
        },
        {
          "name": "stdout",
          "output_type": "stream",
          "text": [
            "Epoch 11: 100%|██████████| 834/834 [01:51<00:00,  7.47it/s, v_num=8jcv, train_loss_step=0.0241, train_loss_epoch=0.0303] "
          ]
        },
        {
          "name": "stderr",
          "output_type": "stream",
          "text": [
            "100%|██████████| 1000/1000 [00:07<00:00, 128.58it/s]\n"
          ]
        },
        {
          "name": "stdout",
          "output_type": "stream",
          "text": [
            "Epoch 12: 100%|██████████| 834/834 [01:51<00:00,  7.48it/s, v_num=8jcv, train_loss_step=0.0236, train_loss_epoch=0.0296] "
          ]
        },
        {
          "name": "stderr",
          "output_type": "stream",
          "text": [
            "100%|██████████| 1000/1000 [00:07<00:00, 128.17it/s]\n"
          ]
        },
        {
          "name": "stdout",
          "output_type": "stream",
          "text": [
            "Epoch 13: 100%|██████████| 834/834 [01:51<00:00,  7.47it/s, v_num=8jcv, train_loss_step=0.0232, train_loss_epoch=0.029]  "
          ]
        },
        {
          "name": "stderr",
          "output_type": "stream",
          "text": [
            "100%|██████████| 1000/1000 [00:07<00:00, 130.44it/s]\n"
          ]
        },
        {
          "name": "stdout",
          "output_type": "stream",
          "text": [
            "Epoch 14: 100%|██████████| 834/834 [01:51<00:00,  7.49it/s, v_num=8jcv, train_loss_step=0.0229, train_loss_epoch=0.0286]"
          ]
        },
        {
          "name": "stderr",
          "output_type": "stream",
          "text": [
            "100%|██████████| 1000/1000 [00:07<00:00, 128.81it/s]\n"
          ]
        },
        {
          "name": "stdout",
          "output_type": "stream",
          "text": [
            "Epoch 15: 100%|██████████| 834/834 [01:51<00:00,  7.49it/s, v_num=8jcv, train_loss_step=0.0226, train_loss_epoch=0.0281] "
          ]
        },
        {
          "name": "stderr",
          "output_type": "stream",
          "text": [
            "100%|██████████| 1000/1000 [00:07<00:00, 130.41it/s]\n"
          ]
        },
        {
          "name": "stdout",
          "output_type": "stream",
          "text": [
            "Epoch 16: 100%|██████████| 834/834 [01:51<00:00,  7.48it/s, v_num=8jcv, train_loss_step=0.0223, train_loss_epoch=0.0277] "
          ]
        },
        {
          "name": "stderr",
          "output_type": "stream",
          "text": [
            "100%|██████████| 1000/1000 [00:07<00:00, 128.66it/s]\n"
          ]
        },
        {
          "name": "stdout",
          "output_type": "stream",
          "text": [
            "Epoch 17: 100%|██████████| 834/834 [01:51<00:00,  7.47it/s, v_num=8jcv, train_loss_step=0.0218, train_loss_epoch=0.0272] "
          ]
        },
        {
          "name": "stderr",
          "output_type": "stream",
          "text": [
            "100%|██████████| 1000/1000 [00:07<00:00, 128.65it/s]\n"
          ]
        },
        {
          "name": "stdout",
          "output_type": "stream",
          "text": [
            "Epoch 18: 100%|██████████| 834/834 [01:51<00:00,  7.46it/s, v_num=8jcv, train_loss_step=0.0215, train_loss_epoch=0.0269] "
          ]
        },
        {
          "name": "stderr",
          "output_type": "stream",
          "text": [
            "100%|██████████| 1000/1000 [00:07<00:00, 130.64it/s]\n"
          ]
        },
        {
          "name": "stdout",
          "output_type": "stream",
          "text": [
            "Epoch 19: 100%|██████████| 834/834 [01:51<00:00,  7.49it/s, v_num=8jcv, train_loss_step=0.0213, train_loss_epoch=0.0267] "
          ]
        },
        {
          "name": "stderr",
          "output_type": "stream",
          "text": [
            "100%|██████████| 1000/1000 [00:07<00:00, 130.45it/s]\n"
          ]
        },
        {
          "name": "stdout",
          "output_type": "stream",
          "text": [
            "Epoch 20: 100%|██████████| 834/834 [01:51<00:00,  7.46it/s, v_num=8jcv, train_loss_step=0.0212, train_loss_epoch=0.0262] "
          ]
        },
        {
          "name": "stderr",
          "output_type": "stream",
          "text": [
            "100%|██████████| 1000/1000 [00:07<00:00, 127.58it/s]\n"
          ]
        },
        {
          "name": "stdout",
          "output_type": "stream",
          "text": [
            "Epoch 21: 100%|██████████| 834/834 [01:52<00:00,  7.44it/s, v_num=8jcv, train_loss_step=0.0204, train_loss_epoch=0.0259] "
          ]
        },
        {
          "name": "stderr",
          "output_type": "stream",
          "text": [
            "100%|██████████| 1000/1000 [00:07<00:00, 129.03it/s]\n"
          ]
        },
        {
          "name": "stdout",
          "output_type": "stream",
          "text": [
            "Epoch 22: 100%|██████████| 834/834 [01:51<00:00,  7.48it/s, v_num=8jcv, train_loss_step=0.0201, train_loss_epoch=0.0255] "
          ]
        },
        {
          "name": "stderr",
          "output_type": "stream",
          "text": [
            "100%|██████████| 1000/1000 [00:07<00:00, 128.56it/s]\n"
          ]
        },
        {
          "name": "stdout",
          "output_type": "stream",
          "text": [
            "Epoch 23: 100%|██████████| 834/834 [01:51<00:00,  7.47it/s, v_num=8jcv, train_loss_step=0.0195, train_loss_epoch=0.0251] "
          ]
        },
        {
          "name": "stderr",
          "output_type": "stream",
          "text": [
            "100%|██████████| 1000/1000 [00:07<00:00, 130.41it/s]\n"
          ]
        },
        {
          "name": "stdout",
          "output_type": "stream",
          "text": [
            "Epoch 24: 100%|██████████| 834/834 [01:52<00:00,  7.44it/s, v_num=8jcv, train_loss_step=0.0192, train_loss_epoch=0.0249] "
          ]
        },
        {
          "name": "stderr",
          "output_type": "stream",
          "text": [
            "100%|██████████| 1000/1000 [00:07<00:00, 130.43it/s]\n"
          ]
        },
        {
          "name": "stdout",
          "output_type": "stream",
          "text": [
            "Epoch 25: 100%|██████████| 834/834 [01:52<00:00,  7.45it/s, v_num=8jcv, train_loss_step=0.0192, train_loss_epoch=0.0245] "
          ]
        },
        {
          "name": "stderr",
          "output_type": "stream",
          "text": [
            "100%|██████████| 1000/1000 [00:07<00:00, 128.24it/s]\n"
          ]
        },
        {
          "name": "stdout",
          "output_type": "stream",
          "text": [
            "Epoch 26: 100%|██████████| 834/834 [01:51<00:00,  7.47it/s, v_num=8jcv, train_loss_step=0.0187, train_loss_epoch=0.0241] "
          ]
        },
        {
          "name": "stderr",
          "output_type": "stream",
          "text": [
            "100%|██████████| 1000/1000 [00:07<00:00, 128.84it/s]\n"
          ]
        },
        {
          "name": "stdout",
          "output_type": "stream",
          "text": [
            "Epoch 27: 100%|██████████| 834/834 [01:51<00:00,  7.47it/s, v_num=8jcv, train_loss_step=0.0181, train_loss_epoch=0.0238] "
          ]
        },
        {
          "name": "stderr",
          "output_type": "stream",
          "text": [
            "100%|██████████| 1000/1000 [00:07<00:00, 128.08it/s]\n"
          ]
        },
        {
          "name": "stdout",
          "output_type": "stream",
          "text": [
            "Epoch 28: 100%|██████████| 834/834 [01:51<00:00,  7.46it/s, v_num=8jcv, train_loss_step=0.0182, train_loss_epoch=0.0234] "
          ]
        },
        {
          "name": "stderr",
          "output_type": "stream",
          "text": [
            "100%|██████████| 1000/1000 [00:07<00:00, 128.73it/s]\n"
          ]
        },
        {
          "name": "stdout",
          "output_type": "stream",
          "text": [
            "Epoch 29: 100%|██████████| 834/834 [01:51<00:00,  7.46it/s, v_num=8jcv, train_loss_step=0.0178, train_loss_epoch=0.0232] "
          ]
        },
        {
          "name": "stderr",
          "output_type": "stream",
          "text": [
            "100%|██████████| 1000/1000 [00:07<00:00, 128.07it/s]\n"
          ]
        },
        {
          "name": "stdout",
          "output_type": "stream",
          "text": [
            "Epoch 30: 100%|██████████| 834/834 [01:51<00:00,  7.46it/s, v_num=8jcv, train_loss_step=0.0173, train_loss_epoch=0.0227] "
          ]
        },
        {
          "name": "stderr",
          "output_type": "stream",
          "text": [
            "100%|██████████| 1000/1000 [00:07<00:00, 130.17it/s]\n"
          ]
        },
        {
          "name": "stdout",
          "output_type": "stream",
          "text": [
            "Epoch 31: 100%|██████████| 834/834 [01:51<00:00,  7.45it/s, v_num=8jcv, train_loss_step=0.017, train_loss_epoch=0.0223]  "
          ]
        },
        {
          "name": "stderr",
          "output_type": "stream",
          "text": [
            "100%|██████████| 1000/1000 [00:07<00:00, 130.40it/s]\n"
          ]
        },
        {
          "name": "stdout",
          "output_type": "stream",
          "text": [
            "Epoch 32: 100%|██████████| 834/834 [01:52<00:00,  7.43it/s, v_num=8jcv, train_loss_step=0.017, train_loss_epoch=0.022]   "
          ]
        },
        {
          "name": "stderr",
          "output_type": "stream",
          "text": [
            "100%|██████████| 1000/1000 [00:07<00:00, 130.44it/s]\n"
          ]
        },
        {
          "name": "stdout",
          "output_type": "stream",
          "text": [
            "Epoch 33: 100%|██████████| 834/834 [01:51<00:00,  7.47it/s, v_num=8jcv, train_loss_step=0.0166, train_loss_epoch=0.0217]"
          ]
        },
        {
          "name": "stderr",
          "output_type": "stream",
          "text": [
            "100%|██████████| 1000/1000 [00:07<00:00, 129.64it/s]\n"
          ]
        },
        {
          "name": "stdout",
          "output_type": "stream",
          "text": [
            "Epoch 34: 100%|██████████| 834/834 [01:51<00:00,  7.47it/s, v_num=8jcv, train_loss_step=0.0163, train_loss_epoch=0.0215] "
          ]
        },
        {
          "name": "stderr",
          "output_type": "stream",
          "text": [
            "100%|██████████| 1000/1000 [00:07<00:00, 128.08it/s]\n"
          ]
        },
        {
          "name": "stdout",
          "output_type": "stream",
          "text": [
            "Epoch 35: 100%|██████████| 834/834 [01:51<00:00,  7.47it/s, v_num=8jcv, train_loss_step=0.0161, train_loss_epoch=0.0212] "
          ]
        },
        {
          "name": "stderr",
          "output_type": "stream",
          "text": [
            "100%|██████████| 1000/1000 [00:07<00:00, 130.95it/s]\n"
          ]
        },
        {
          "name": "stdout",
          "output_type": "stream",
          "text": [
            "Epoch 36: 100%|██████████| 834/834 [01:51<00:00,  7.46it/s, v_num=8jcv, train_loss_step=0.0166, train_loss_epoch=0.0209] "
          ]
        },
        {
          "name": "stderr",
          "output_type": "stream",
          "text": [
            "100%|██████████| 1000/1000 [00:07<00:00, 130.81it/s]\n"
          ]
        },
        {
          "name": "stdout",
          "output_type": "stream",
          "text": [
            "Epoch 37: 100%|██████████| 834/834 [01:51<00:00,  7.46it/s, v_num=8jcv, train_loss_step=0.0158, train_loss_epoch=0.0206] "
          ]
        },
        {
          "name": "stderr",
          "output_type": "stream",
          "text": [
            "100%|██████████| 1000/1000 [00:07<00:00, 129.05it/s]\n"
          ]
        },
        {
          "name": "stdout",
          "output_type": "stream",
          "text": [
            "Epoch 38: 100%|██████████| 834/834 [01:51<00:00,  7.45it/s, v_num=8jcv, train_loss_step=0.0155, train_loss_epoch=0.0203] "
          ]
        },
        {
          "name": "stderr",
          "output_type": "stream",
          "text": [
            "100%|██████████| 1000/1000 [00:07<00:00, 128.01it/s]\n"
          ]
        },
        {
          "name": "stdout",
          "output_type": "stream",
          "text": [
            "Epoch 39: 100%|██████████| 834/834 [01:51<00:00,  7.46it/s, v_num=8jcv, train_loss_step=0.0152, train_loss_epoch=0.020]  "
          ]
        },
        {
          "name": "stderr",
          "output_type": "stream",
          "text": [
            "100%|██████████| 1000/1000 [00:07<00:00, 130.28it/s]\n"
          ]
        },
        {
          "name": "stdout",
          "output_type": "stream",
          "text": [
            "Epoch 40: 100%|██████████| 834/834 [01:52<00:00,  7.44it/s, v_num=8jcv, train_loss_step=0.015, train_loss_epoch=0.0197] "
          ]
        },
        {
          "name": "stderr",
          "output_type": "stream",
          "text": [
            "100%|██████████| 1000/1000 [00:07<00:00, 130.49it/s]\n"
          ]
        },
        {
          "name": "stdout",
          "output_type": "stream",
          "text": [
            "Epoch 41: 100%|██████████| 834/834 [01:51<00:00,  7.46it/s, v_num=8jcv, train_loss_step=0.0147, train_loss_epoch=0.0194] "
          ]
        },
        {
          "name": "stderr",
          "output_type": "stream",
          "text": [
            "100%|██████████| 1000/1000 [00:07<00:00, 128.34it/s]\n"
          ]
        },
        {
          "name": "stdout",
          "output_type": "stream",
          "text": [
            "Epoch 42: 100%|██████████| 834/834 [01:51<00:00,  7.46it/s, v_num=8jcv, train_loss_step=0.0145, train_loss_epoch=0.0191] "
          ]
        },
        {
          "name": "stderr",
          "output_type": "stream",
          "text": [
            "100%|██████████| 1000/1000 [00:07<00:00, 128.37it/s]\n"
          ]
        },
        {
          "name": "stdout",
          "output_type": "stream",
          "text": [
            "Epoch 43: 100%|██████████| 834/834 [01:51<00:00,  7.45it/s, v_num=8jcv, train_loss_step=0.0142, train_loss_epoch=0.0189] "
          ]
        },
        {
          "name": "stderr",
          "output_type": "stream",
          "text": [
            "100%|██████████| 1000/1000 [00:07<00:00, 130.55it/s]\n"
          ]
        },
        {
          "name": "stdout",
          "output_type": "stream",
          "text": [
            "Epoch 44: 100%|██████████| 834/834 [01:52<00:00,  7.45it/s, v_num=8jcv, train_loss_step=0.0144, train_loss_epoch=0.0187] "
          ]
        },
        {
          "name": "stderr",
          "output_type": "stream",
          "text": [
            "100%|██████████| 1000/1000 [00:07<00:00, 131.02it/s]\n"
          ]
        },
        {
          "name": "stdout",
          "output_type": "stream",
          "text": [
            "Epoch 45: 100%|██████████| 834/834 [01:51<00:00,  7.46it/s, v_num=8jcv, train_loss_step=0.014, train_loss_epoch=0.0186]  "
          ]
        },
        {
          "name": "stderr",
          "output_type": "stream",
          "text": [
            "100%|██████████| 1000/1000 [00:07<00:00, 129.37it/s]\n"
          ]
        },
        {
          "name": "stdout",
          "output_type": "stream",
          "text": [
            "Epoch 46: 100%|██████████| 834/834 [01:51<00:00,  7.47it/s, v_num=8jcv, train_loss_step=0.0136, train_loss_epoch=0.0184] "
          ]
        },
        {
          "name": "stderr",
          "output_type": "stream",
          "text": [
            "100%|██████████| 1000/1000 [00:07<00:00, 128.43it/s]\n"
          ]
        },
        {
          "name": "stdout",
          "output_type": "stream",
          "text": [
            "Epoch 47: 100%|██████████| 834/834 [01:51<00:00,  7.47it/s, v_num=8jcv, train_loss_step=0.0136, train_loss_epoch=0.0181] "
          ]
        },
        {
          "name": "stderr",
          "output_type": "stream",
          "text": [
            "100%|██████████| 1000/1000 [00:07<00:00, 128.91it/s]\n"
          ]
        },
        {
          "name": "stdout",
          "output_type": "stream",
          "text": [
            "Epoch 48: 100%|██████████| 834/834 [01:51<00:00,  7.46it/s, v_num=8jcv, train_loss_step=0.0137, train_loss_epoch=0.0178] "
          ]
        },
        {
          "name": "stderr",
          "output_type": "stream",
          "text": [
            "100%|██████████| 1000/1000 [00:07<00:00, 130.86it/s]\n"
          ]
        },
        {
          "name": "stdout",
          "output_type": "stream",
          "text": [
            "Epoch 49: 100%|██████████| 834/834 [01:51<00:00,  7.45it/s, v_num=8jcv, train_loss_step=0.0133, train_loss_epoch=0.0176] "
          ]
        },
        {
          "name": "stderr",
          "output_type": "stream",
          "text": [
            "100%|██████████| 1000/1000 [00:07<00:00, 128.29it/s]\n"
          ]
        },
        {
          "name": "stdout",
          "output_type": "stream",
          "text": [
            "Epoch 50: 100%|██████████| 834/834 [01:51<00:00,  7.47it/s, v_num=8jcv, train_loss_step=0.0134, train_loss_epoch=0.0173] "
          ]
        },
        {
          "name": "stderr",
          "output_type": "stream",
          "text": [
            "100%|██████████| 1000/1000 [00:07<00:00, 128.55it/s]\n"
          ]
        },
        {
          "name": "stdout",
          "output_type": "stream",
          "text": [
            "Epoch 51: 100%|██████████| 834/834 [01:51<00:00,  7.47it/s, v_num=8jcv, train_loss_step=0.0135, train_loss_epoch=0.0173] "
          ]
        },
        {
          "name": "stderr",
          "output_type": "stream",
          "text": [
            "100%|██████████| 1000/1000 [00:07<00:00, 128.50it/s]\n"
          ]
        },
        {
          "name": "stdout",
          "output_type": "stream",
          "text": [
            "Epoch 52: 100%|██████████| 834/834 [01:51<00:00,  7.46it/s, v_num=8jcv, train_loss_step=0.0132, train_loss_epoch=0.0171] "
          ]
        },
        {
          "name": "stderr",
          "output_type": "stream",
          "text": [
            "100%|██████████| 1000/1000 [00:07<00:00, 128.63it/s]\n"
          ]
        },
        {
          "name": "stdout",
          "output_type": "stream",
          "text": [
            "Epoch 53: 100%|██████████| 834/834 [01:52<00:00,  7.43it/s, v_num=8jcv, train_loss_step=0.013, train_loss_epoch=0.0169]  "
          ]
        },
        {
          "name": "stderr",
          "output_type": "stream",
          "text": [
            "100%|██████████| 1000/1000 [00:07<00:00, 129.71it/s]\n"
          ]
        },
        {
          "name": "stdout",
          "output_type": "stream",
          "text": [
            "Epoch 54: 100%|██████████| 834/834 [01:51<00:00,  7.48it/s, v_num=8jcv, train_loss_step=0.0132, train_loss_epoch=0.0167] "
          ]
        },
        {
          "name": "stderr",
          "output_type": "stream",
          "text": [
            "100%|██████████| 1000/1000 [00:07<00:00, 131.00it/s]\n"
          ]
        },
        {
          "name": "stdout",
          "output_type": "stream",
          "text": [
            "Epoch 55: 100%|██████████| 834/834 [01:51<00:00,  7.46it/s, v_num=8jcv, train_loss_step=0.0131, train_loss_epoch=0.0165] "
          ]
        },
        {
          "name": "stderr",
          "output_type": "stream",
          "text": [
            "100%|██████████| 1000/1000 [00:07<00:00, 128.13it/s]\n"
          ]
        },
        {
          "name": "stdout",
          "output_type": "stream",
          "text": [
            "Epoch 56: 100%|██████████| 834/834 [01:51<00:00,  7.47it/s, v_num=8jcv, train_loss_step=0.0128, train_loss_epoch=0.0163] "
          ]
        },
        {
          "name": "stderr",
          "output_type": "stream",
          "text": [
            "100%|██████████| 1000/1000 [00:07<00:00, 130.74it/s]\n"
          ]
        },
        {
          "name": "stdout",
          "output_type": "stream",
          "text": [
            "Epoch 57: 100%|██████████| 834/834 [01:51<00:00,  7.47it/s, v_num=8jcv, train_loss_step=0.0122, train_loss_epoch=0.0162] "
          ]
        },
        {
          "name": "stderr",
          "output_type": "stream",
          "text": [
            "100%|██████████| 1000/1000 [00:07<00:00, 128.01it/s]\n"
          ]
        },
        {
          "name": "stdout",
          "output_type": "stream",
          "text": [
            "Epoch 58: 100%|██████████| 834/834 [01:52<00:00,  7.45it/s, v_num=8jcv, train_loss_step=0.0121, train_loss_epoch=0.016]  "
          ]
        },
        {
          "name": "stderr",
          "output_type": "stream",
          "text": [
            "100%|██████████| 1000/1000 [00:07<00:00, 129.18it/s]\n"
          ]
        },
        {
          "name": "stdout",
          "output_type": "stream",
          "text": [
            "Epoch 59: 100%|██████████| 834/834 [01:51<00:00,  7.46it/s, v_num=8jcv, train_loss_step=0.012, train_loss_epoch=0.0157] "
          ]
        },
        {
          "name": "stderr",
          "output_type": "stream",
          "text": [
            "100%|██████████| 1000/1000 [00:07<00:00, 129.29it/s]\n"
          ]
        },
        {
          "name": "stdout",
          "output_type": "stream",
          "text": [
            "Epoch 60: 100%|██████████| 834/834 [01:51<00:00,  7.49it/s, v_num=8jcv, train_loss_step=0.0121, train_loss_epoch=0.0156] "
          ]
        },
        {
          "name": "stderr",
          "output_type": "stream",
          "text": [
            "100%|██████████| 1000/1000 [00:07<00:00, 129.83it/s]\n"
          ]
        },
        {
          "name": "stdout",
          "output_type": "stream",
          "text": [
            "Epoch 61: 100%|██████████| 834/834 [01:51<00:00,  7.46it/s, v_num=8jcv, train_loss_step=0.0123, train_loss_epoch=0.0155] "
          ]
        },
        {
          "name": "stderr",
          "output_type": "stream",
          "text": [
            "100%|██████████| 1000/1000 [00:07<00:00, 128.82it/s]\n"
          ]
        },
        {
          "name": "stdout",
          "output_type": "stream",
          "text": [
            "Epoch 62: 100%|██████████| 834/834 [01:51<00:00,  7.46it/s, v_num=8jcv, train_loss_step=0.0121, train_loss_epoch=0.0155] "
          ]
        },
        {
          "name": "stderr",
          "output_type": "stream",
          "text": [
            "100%|██████████| 1000/1000 [00:07<00:00, 128.51it/s]\n"
          ]
        },
        {
          "name": "stdout",
          "output_type": "stream",
          "text": [
            "Epoch 63: 100%|██████████| 834/834 [01:51<00:00,  7.47it/s, v_num=8jcv, train_loss_step=0.0117, train_loss_epoch=0.0153] "
          ]
        },
        {
          "name": "stderr",
          "output_type": "stream",
          "text": [
            "100%|██████████| 1000/1000 [00:07<00:00, 130.76it/s]\n"
          ]
        },
        {
          "name": "stdout",
          "output_type": "stream",
          "text": [
            "Epoch 64: 100%|██████████| 834/834 [01:51<00:00,  7.46it/s, v_num=8jcv, train_loss_step=0.0114, train_loss_epoch=0.015]  "
          ]
        },
        {
          "name": "stderr",
          "output_type": "stream",
          "text": [
            "100%|██████████| 1000/1000 [00:07<00:00, 128.60it/s]\n"
          ]
        },
        {
          "name": "stdout",
          "output_type": "stream",
          "text": [
            "Epoch 65: 100%|██████████| 834/834 [01:51<00:00,  7.45it/s, v_num=8jcv, train_loss_step=0.0113, train_loss_epoch=0.0148]"
          ]
        },
        {
          "name": "stderr",
          "output_type": "stream",
          "text": [
            "100%|██████████| 1000/1000 [00:07<00:00, 128.52it/s]\n"
          ]
        },
        {
          "name": "stdout",
          "output_type": "stream",
          "text": [
            "Epoch 66: 100%|██████████| 834/834 [01:52<00:00,  7.45it/s, v_num=8jcv, train_loss_step=0.0113, train_loss_epoch=0.0147] "
          ]
        },
        {
          "name": "stderr",
          "output_type": "stream",
          "text": [
            "100%|██████████| 1000/1000 [00:07<00:00, 128.74it/s]\n"
          ]
        },
        {
          "name": "stdout",
          "output_type": "stream",
          "text": [
            "Epoch 67: 100%|██████████| 834/834 [01:51<00:00,  7.49it/s, v_num=8jcv, train_loss_step=0.0112, train_loss_epoch=0.0146] "
          ]
        },
        {
          "name": "stderr",
          "output_type": "stream",
          "text": [
            "100%|██████████| 1000/1000 [00:07<00:00, 131.43it/s]\n"
          ]
        },
        {
          "name": "stdout",
          "output_type": "stream",
          "text": [
            "Epoch 68: 100%|██████████| 834/834 [01:52<00:00,  7.44it/s, v_num=8jcv, train_loss_step=0.0113, train_loss_epoch=0.0145] "
          ]
        },
        {
          "name": "stderr",
          "output_type": "stream",
          "text": [
            "100%|██████████| 1000/1000 [00:07<00:00, 129.38it/s]\n"
          ]
        },
        {
          "name": "stdout",
          "output_type": "stream",
          "text": [
            "Epoch 69: 100%|██████████| 834/834 [01:51<00:00,  7.48it/s, v_num=8jcv, train_loss_step=0.0111, train_loss_epoch=0.0145] "
          ]
        },
        {
          "name": "stderr",
          "output_type": "stream",
          "text": [
            "100%|██████████| 1000/1000 [00:07<00:00, 130.43it/s]\n"
          ]
        },
        {
          "name": "stdout",
          "output_type": "stream",
          "text": [
            "Epoch 70: 100%|██████████| 834/834 [01:51<00:00,  7.46it/s, v_num=8jcv, train_loss_step=0.0111, train_loss_epoch=0.0143] "
          ]
        },
        {
          "name": "stderr",
          "output_type": "stream",
          "text": [
            "100%|██████████| 1000/1000 [00:07<00:00, 128.88it/s]\n"
          ]
        },
        {
          "name": "stdout",
          "output_type": "stream",
          "text": [
            "Epoch 71: 100%|██████████| 834/834 [01:51<00:00,  7.47it/s, v_num=8jcv, train_loss_step=0.0112, train_loss_epoch=0.0142] "
          ]
        },
        {
          "name": "stderr",
          "output_type": "stream",
          "text": [
            "100%|██████████| 1000/1000 [00:07<00:00, 130.96it/s]\n"
          ]
        },
        {
          "name": "stdout",
          "output_type": "stream",
          "text": [
            "Epoch 72: 100%|██████████| 834/834 [01:52<00:00,  7.44it/s, v_num=8jcv, train_loss_step=0.011, train_loss_epoch=0.0141]  "
          ]
        },
        {
          "name": "stderr",
          "output_type": "stream",
          "text": [
            "100%|██████████| 1000/1000 [00:07<00:00, 128.01it/s]\n"
          ]
        },
        {
          "name": "stdout",
          "output_type": "stream",
          "text": [
            "Epoch 73: 100%|██████████| 834/834 [01:52<00:00,  7.44it/s, v_num=8jcv, train_loss_step=0.011, train_loss_epoch=0.014]   "
          ]
        },
        {
          "name": "stderr",
          "output_type": "stream",
          "text": [
            "100%|██████████| 1000/1000 [00:07<00:00, 128.08it/s]\n"
          ]
        },
        {
          "name": "stdout",
          "output_type": "stream",
          "text": [
            "Epoch 74: 100%|██████████| 834/834 [01:51<00:00,  7.47it/s, v_num=8jcv, train_loss_step=0.0109, train_loss_epoch=0.0139]"
          ]
        },
        {
          "name": "stderr",
          "output_type": "stream",
          "text": [
            "100%|██████████| 1000/1000 [00:07<00:00, 131.09it/s]\n"
          ]
        },
        {
          "name": "stdout",
          "output_type": "stream",
          "text": [
            "Epoch 75: 100%|██████████| 834/834 [01:51<00:00,  7.49it/s, v_num=8jcv, train_loss_step=0.0109, train_loss_epoch=0.0138] "
          ]
        },
        {
          "name": "stderr",
          "output_type": "stream",
          "text": [
            "100%|██████████| 1000/1000 [00:07<00:00, 128.38it/s]\n"
          ]
        },
        {
          "name": "stdout",
          "output_type": "stream",
          "text": [
            "Epoch 76: 100%|██████████| 834/834 [01:51<00:00,  7.45it/s, v_num=8jcv, train_loss_step=0.0109, train_loss_epoch=0.0138] "
          ]
        },
        {
          "name": "stderr",
          "output_type": "stream",
          "text": [
            "100%|██████████| 1000/1000 [00:07<00:00, 128.04it/s]\n"
          ]
        },
        {
          "name": "stdout",
          "output_type": "stream",
          "text": [
            "Epoch 77: 100%|██████████| 834/834 [01:51<00:00,  7.46it/s, v_num=8jcv, train_loss_step=0.0109, train_loss_epoch=0.0137] "
          ]
        },
        {
          "name": "stderr",
          "output_type": "stream",
          "text": [
            "100%|██████████| 1000/1000 [00:07<00:00, 128.68it/s]\n"
          ]
        },
        {
          "name": "stdout",
          "output_type": "stream",
          "text": [
            "Epoch 78: 100%|██████████| 834/834 [01:51<00:00,  7.47it/s, v_num=8jcv, train_loss_step=0.0108, train_loss_epoch=0.0136] "
          ]
        },
        {
          "name": "stderr",
          "output_type": "stream",
          "text": [
            "100%|██████████| 1000/1000 [00:07<00:00, 128.05it/s]\n"
          ]
        },
        {
          "name": "stdout",
          "output_type": "stream",
          "text": [
            "Epoch 79: 100%|██████████| 834/834 [01:51<00:00,  7.48it/s, v_num=8jcv, train_loss_step=0.0108, train_loss_epoch=0.0136] "
          ]
        },
        {
          "name": "stderr",
          "output_type": "stream",
          "text": [
            "100%|██████████| 1000/1000 [00:07<00:00, 128.78it/s]\n"
          ]
        },
        {
          "name": "stdout",
          "output_type": "stream",
          "text": [
            "Epoch 80: 100%|██████████| 834/834 [01:51<00:00,  7.45it/s, v_num=8jcv, train_loss_step=0.0108, train_loss_epoch=0.0135] "
          ]
        },
        {
          "name": "stderr",
          "output_type": "stream",
          "text": [
            "100%|██████████| 1000/1000 [00:07<00:00, 128.64it/s]\n"
          ]
        },
        {
          "name": "stdout",
          "output_type": "stream",
          "text": [
            "Epoch 81: 100%|██████████| 834/834 [01:51<00:00,  7.45it/s, v_num=8jcv, train_loss_step=0.0108, train_loss_epoch=0.0135] "
          ]
        },
        {
          "name": "stderr",
          "output_type": "stream",
          "text": [
            "100%|██████████| 1000/1000 [00:07<00:00, 128.20it/s]\n"
          ]
        },
        {
          "name": "stdout",
          "output_type": "stream",
          "text": [
            "Epoch 82: 100%|██████████| 834/834 [01:51<00:00,  7.45it/s, v_num=8jcv, train_loss_step=0.0108, train_loss_epoch=0.0135] "
          ]
        },
        {
          "name": "stderr",
          "output_type": "stream",
          "text": [
            "100%|██████████| 1000/1000 [00:07<00:00, 128.35it/s]\n"
          ]
        },
        {
          "name": "stdout",
          "output_type": "stream",
          "text": [
            "Epoch 83: 100%|██████████| 834/834 [01:50<00:00,  7.52it/s, v_num=8jcv, train_loss_step=0.0108, train_loss_epoch=0.0135] "
          ]
        },
        {
          "name": "stderr",
          "output_type": "stream",
          "text": [
            "100%|██████████| 1000/1000 [00:07<00:00, 130.42it/s]\n"
          ]
        },
        {
          "name": "stdout",
          "output_type": "stream",
          "text": [
            "Epoch 84: 100%|██████████| 834/834 [01:51<00:00,  7.48it/s, v_num=8jcv, train_loss_step=0.0108, train_loss_epoch=0.0135] "
          ]
        },
        {
          "name": "stderr",
          "output_type": "stream",
          "text": [
            "100%|██████████| 1000/1000 [00:07<00:00, 128.64it/s]"
          ]
        },
        {
          "name": "stdout",
          "output_type": "stream",
          "text": [
            "Epoch 85:   0%|          | 0/834 [00:00<?, ?it/s, v_num=8jcv, train_loss_step=0.0108, train_loss_epoch=0.0135]          "
          ]
        },
        {
          "name": "stderr",
          "output_type": "stream",
          "text": [
            "\n"
          ]
        },
        {
          "name": "stdout",
          "output_type": "stream",
          "text": [
            "Epoch 85: 100%|██████████| 834/834 [01:51<00:00,  7.45it/s, v_num=8jcv, train_loss_step=0.0108, train_loss_epoch=0.0135] "
          ]
        },
        {
          "name": "stderr",
          "output_type": "stream",
          "text": [
            "100%|██████████| 1000/1000 [00:07<00:00, 129.12it/s]"
          ]
        },
        {
          "name": "stdout",
          "output_type": "stream",
          "text": [
            "Epoch 86:   0%|          | 0/834 [00:00<?, ?it/s, v_num=8jcv, train_loss_step=0.0108, train_loss_epoch=0.0135]          "
          ]
        },
        {
          "name": "stderr",
          "output_type": "stream",
          "text": [
            "\n"
          ]
        },
        {
          "name": "stdout",
          "output_type": "stream",
          "text": [
            "Epoch 86: 100%|██████████| 834/834 [01:51<00:00,  7.46it/s, v_num=8jcv, train_loss_step=0.0108, train_loss_epoch=0.0135] "
          ]
        },
        {
          "name": "stderr",
          "output_type": "stream",
          "text": [
            "100%|██████████| 1000/1000 [00:07<00:00, 128.73it/s]"
          ]
        },
        {
          "name": "stdout",
          "output_type": "stream",
          "text": [
            "Epoch 87:   0%|          | 0/834 [00:00<?, ?it/s, v_num=8jcv, train_loss_step=0.0108, train_loss_epoch=0.0135]          "
          ]
        },
        {
          "name": "stderr",
          "output_type": "stream",
          "text": [
            "\n"
          ]
        },
        {
          "name": "stdout",
          "output_type": "stream",
          "text": [
            "Epoch 87: 100%|██████████| 834/834 [01:51<00:00,  7.45it/s, v_num=8jcv, train_loss_step=0.0109, train_loss_epoch=0.0136] "
          ]
        },
        {
          "name": "stderr",
          "output_type": "stream",
          "text": [
            "100%|██████████| 1000/1000 [00:07<00:00, 130.18it/s]"
          ]
        },
        {
          "name": "stdout",
          "output_type": "stream",
          "text": [
            "Epoch 88:   0%|          | 0/834 [00:00<?, ?it/s, v_num=8jcv, train_loss_step=0.0109, train_loss_epoch=0.0136]          "
          ]
        },
        {
          "name": "stderr",
          "output_type": "stream",
          "text": [
            "\n"
          ]
        },
        {
          "name": "stdout",
          "output_type": "stream",
          "text": [
            "Epoch 88: 100%|██████████| 834/834 [01:51<00:00,  7.45it/s, v_num=8jcv, train_loss_step=0.0109, train_loss_epoch=0.0136] "
          ]
        },
        {
          "name": "stderr",
          "output_type": "stream",
          "text": [
            "100%|██████████| 1000/1000 [00:07<00:00, 131.16it/s]"
          ]
        },
        {
          "name": "stdout",
          "output_type": "stream",
          "text": [
            "Epoch 89:   0%|          | 0/834 [00:00<?, ?it/s, v_num=8jcv, train_loss_step=0.0109, train_loss_epoch=0.0136]          "
          ]
        },
        {
          "name": "stderr",
          "output_type": "stream",
          "text": [
            "\n"
          ]
        },
        {
          "name": "stdout",
          "output_type": "stream",
          "text": [
            "Epoch 89: 100%|██████████| 834/834 [01:52<00:00,  7.45it/s, v_num=8jcv, train_loss_step=0.011, train_loss_epoch=0.0136]  "
          ]
        },
        {
          "name": "stderr",
          "output_type": "stream",
          "text": [
            "100%|██████████| 1000/1000 [00:07<00:00, 128.50it/s]"
          ]
        },
        {
          "name": "stdout",
          "output_type": "stream",
          "text": [
            "Epoch 90:   0%|          | 0/834 [00:00<?, ?it/s, v_num=8jcv, train_loss_step=0.011, train_loss_epoch=0.0136]          "
          ]
        },
        {
          "name": "stderr",
          "output_type": "stream",
          "text": [
            "\n"
          ]
        },
        {
          "name": "stdout",
          "output_type": "stream",
          "text": [
            "Epoch 90: 100%|██████████| 834/834 [01:51<00:00,  7.46it/s, v_num=8jcv, train_loss_step=0.011, train_loss_epoch=0.0137]  "
          ]
        },
        {
          "name": "stderr",
          "output_type": "stream",
          "text": [
            "100%|██████████| 1000/1000 [00:07<00:00, 129.73it/s]"
          ]
        },
        {
          "name": "stdout",
          "output_type": "stream",
          "text": [
            "Epoch 91:   0%|          | 0/834 [00:00<?, ?it/s, v_num=8jcv, train_loss_step=0.011, train_loss_epoch=0.0137]          "
          ]
        },
        {
          "name": "stderr",
          "output_type": "stream",
          "text": [
            "\n"
          ]
        },
        {
          "name": "stdout",
          "output_type": "stream",
          "text": [
            "Epoch 91: 100%|██████████| 834/834 [01:51<00:00,  7.46it/s, v_num=8jcv, train_loss_step=0.011, train_loss_epoch=0.0138]  "
          ]
        },
        {
          "name": "stderr",
          "output_type": "stream",
          "text": [
            "100%|██████████| 1000/1000 [00:07<00:00, 128.07it/s]"
          ]
        },
        {
          "name": "stdout",
          "output_type": "stream",
          "text": [
            "Epoch 92:   0%|          | 0/834 [00:00<?, ?it/s, v_num=8jcv, train_loss_step=0.011, train_loss_epoch=0.0138]          "
          ]
        },
        {
          "name": "stderr",
          "output_type": "stream",
          "text": [
            "\n"
          ]
        },
        {
          "name": "stdout",
          "output_type": "stream",
          "text": [
            "Epoch 92: 100%|██████████| 834/834 [01:51<00:00,  7.51it/s, v_num=8jcv, train_loss_step=0.0109, train_loss_epoch=0.0139] "
          ]
        },
        {
          "name": "stderr",
          "output_type": "stream",
          "text": [
            "100%|██████████| 1000/1000 [00:07<00:00, 130.86it/s]"
          ]
        },
        {
          "name": "stdout",
          "output_type": "stream",
          "text": [
            "Epoch 93:   0%|          | 0/834 [00:00<?, ?it/s, v_num=8jcv, train_loss_step=0.0109, train_loss_epoch=0.0139]          "
          ]
        },
        {
          "name": "stderr",
          "output_type": "stream",
          "text": [
            "\n"
          ]
        },
        {
          "name": "stdout",
          "output_type": "stream",
          "text": [
            "Epoch 93: 100%|██████████| 834/834 [01:51<00:00,  7.46it/s, v_num=8jcv, train_loss_step=0.0109, train_loss_epoch=0.0139] "
          ]
        },
        {
          "name": "stderr",
          "output_type": "stream",
          "text": [
            "100%|██████████| 1000/1000 [00:07<00:00, 127.60it/s]"
          ]
        },
        {
          "name": "stdout",
          "output_type": "stream",
          "text": [
            "Epoch 94:   0%|          | 0/834 [00:00<?, ?it/s, v_num=8jcv, train_loss_step=0.0109, train_loss_epoch=0.0139]          "
          ]
        },
        {
          "name": "stderr",
          "output_type": "stream",
          "text": [
            "\n"
          ]
        },
        {
          "name": "stdout",
          "output_type": "stream",
          "text": [
            "Epoch 94: 100%|██████████| 834/834 [01:51<00:00,  7.47it/s, v_num=8jcv, train_loss_step=0.0109, train_loss_epoch=0.014]  "
          ]
        },
        {
          "name": "stderr",
          "output_type": "stream",
          "text": [
            "100%|██████████| 1000/1000 [00:07<00:00, 130.46it/s]"
          ]
        },
        {
          "name": "stdout",
          "output_type": "stream",
          "text": [
            "Epoch 95:   0%|          | 0/834 [00:00<?, ?it/s, v_num=8jcv, train_loss_step=0.0109, train_loss_epoch=0.014]          "
          ]
        },
        {
          "name": "stderr",
          "output_type": "stream",
          "text": [
            "\n"
          ]
        },
        {
          "name": "stdout",
          "output_type": "stream",
          "text": [
            "Epoch 95: 100%|██████████| 834/834 [01:52<00:00,  7.45it/s, v_num=8jcv, train_loss_step=0.011, train_loss_epoch=0.0141] "
          ]
        },
        {
          "name": "stderr",
          "output_type": "stream",
          "text": [
            "100%|██████████| 1000/1000 [00:07<00:00, 128.21it/s]\n"
          ]
        },
        {
          "name": "stdout",
          "output_type": "stream",
          "text": [
            "Epoch 96: 100%|██████████| 834/834 [01:51<00:00,  7.46it/s, v_num=8jcv, train_loss_step=0.0111, train_loss_epoch=0.0142] "
          ]
        },
        {
          "name": "stderr",
          "output_type": "stream",
          "text": [
            "100%|██████████| 1000/1000 [00:07<00:00, 127.62it/s]"
          ]
        },
        {
          "name": "stdout",
          "output_type": "stream",
          "text": [
            "Epoch 97:   0%|          | 0/834 [00:00<?, ?it/s, v_num=8jcv, train_loss_step=0.0111, train_loss_epoch=0.0142]          "
          ]
        },
        {
          "name": "stderr",
          "output_type": "stream",
          "text": [
            "\n"
          ]
        },
        {
          "name": "stdout",
          "output_type": "stream",
          "text": [
            "Epoch 97: 100%|██████████| 834/834 [01:51<00:00,  7.45it/s, v_num=8jcv, train_loss_step=0.011, train_loss_epoch=0.0143]  "
          ]
        },
        {
          "name": "stderr",
          "output_type": "stream",
          "text": [
            "100%|██████████| 1000/1000 [00:07<00:00, 128.04it/s]"
          ]
        },
        {
          "name": "stdout",
          "output_type": "stream",
          "text": [
            "Epoch 98:   0%|          | 0/834 [00:00<?, ?it/s, v_num=8jcv, train_loss_step=0.011, train_loss_epoch=0.0143]          "
          ]
        },
        {
          "name": "stderr",
          "output_type": "stream",
          "text": [
            "\n"
          ]
        },
        {
          "name": "stdout",
          "output_type": "stream",
          "text": [
            "Epoch 98: 100%|██████████| 834/834 [01:51<00:00,  7.46it/s, v_num=8jcv, train_loss_step=0.011, train_loss_epoch=0.0143]  "
          ]
        },
        {
          "name": "stderr",
          "output_type": "stream",
          "text": [
            "100%|██████████| 1000/1000 [00:07<00:00, 130.99it/s]"
          ]
        },
        {
          "name": "stdout",
          "output_type": "stream",
          "text": [
            "Epoch 99:   0%|          | 0/834 [00:00<?, ?it/s, v_num=8jcv, train_loss_step=0.011, train_loss_epoch=0.0143]          "
          ]
        },
        {
          "name": "stderr",
          "output_type": "stream",
          "text": [
            "\n"
          ]
        },
        {
          "name": "stdout",
          "output_type": "stream",
          "text": [
            "Epoch 99: 100%|██████████| 834/834 [01:51<00:00,  7.46it/s, v_num=8jcv, train_loss_step=0.011, train_loss_epoch=0.0143]  "
          ]
        },
        {
          "name": "stderr",
          "output_type": "stream",
          "text": [
            "100%|██████████| 1000/1000 [00:07<00:00, 130.35it/s]\n",
            "`Trainer.fit` stopped: `max_epochs=100` reached.\n"
          ]
        },
        {
          "name": "stdout",
          "output_type": "stream",
          "text": [
            "Epoch 99: 100%|██████████| 834/834 [01:59<00:00,  6.98it/s, v_num=8jcv, train_loss_step=0.011, train_loss_epoch=0.0143]\n"
          ]
        }
      ],
      "source": [
        "trainer.fit(diffusion_model, train_loader)"
      ]
    },
    {
      "cell_type": "code",
      "execution_count": null,
      "metadata": {},
      "outputs": [],
      "source": [
        "diffusion_model = DiffusionModel.load_from_checkpoint('logs/stable-diffusion/version_0/checkpoints/epoch=7-step=320.ckpt', config=config)"
      ]
    },
    {
      "cell_type": "code",
      "execution_count": 10,
      "metadata": {},
      "outputs": [
        {
          "data": {
            "text/plain": [
              "device(type='cpu')"
            ]
          },
          "execution_count": 10,
          "metadata": {},
          "output_type": "execute_result"
        }
      ],
      "source": [
        "diffusion_model.device"
      ]
    },
    {
      "cell_type": "code",
      "execution_count": 38,
      "metadata": {},
      "outputs": [
        {
          "name": "stderr",
          "output_type": "stream",
          "text": [
            "/tmp/ipykernel_14438/3900403895.py:13: UserWarning: To copy construct from a tensor, it is recommended to use sourceTensor.clone().detach() or sourceTensor.clone().detach().requires_grad_(True), rather than torch.tensor(sourceTensor).\n",
            "  noise_pred = diffusion_model.unet(noise, torch.tensor(t).cuda(), label.unsqueeze(0))\n"
          ]
        },
        {
          "name": "stderr",
          "output_type": "stream",
          "text": [
            "100%|██████████| 1000/1000 [00:55<00:00, 17.96it/s]\n"
          ]
        }
      ],
      "source": [
        "generator = torch.manual_seed(42)\n",
        "diffusion_model.unet = diffusion_model.unet.cuda()\n",
        "noise = torch.randn(1, 3, config.image_size*2, config.image_size*2, generator=generator).cuda()\n",
        "noise = noise * diffusion_model.noise_scheduler.init_noise_sigma\n",
        "#label = diffusion_model.label_projection(torch.tensor(2).cuda())\n",
        "label = torch.tensor(1).cuda()\n",
        "\n",
        "\n",
        "for i, t in tqdm(enumerate(diffusion_model.noise_scheduler.timesteps), total=len(diffusion_model.noise_scheduler.timesteps)):\n",
        "    noise = diffusion_model.noise_scheduler.scale_model_input(noise, t)\n",
        "\n",
        "    with torch.no_grad():\n",
        "        noise_pred = diffusion_model.unet(noise, torch.tensor(t).cuda(), label.unsqueeze(0))\n",
        "\n",
        "    noise = diffusion_model.noise_scheduler.step(noise_pred, t.long(), noise).prev_sample"
      ]
    },
    {
      "cell_type": "code",
      "execution_count": 20,
      "metadata": {},
      "outputs": [
        {
          "data": {
            "text/plain": [
              "torch.Size([1, 3, 64, 64])"
            ]
          },
          "execution_count": 20,
          "metadata": {},
          "output_type": "execute_result"
        }
      ],
      "source": [
        "noise.shape"
      ]
    },
    {
      "cell_type": "code",
      "execution_count": null,
      "metadata": {},
      "outputs": [],
      "source": [
        "# from matplotlib import pyplot as plt\n",
        "\n",
        "# fig, axs = plt.subplots(1, 4, figsize=(16, 4))\n",
        "# for c in range(4):\n",
        "#     axs[c].imshow(noise[0][c].cpu(), cmap='Greys')"
      ]
    },
    {
      "cell_type": "code",
      "execution_count": 39,
      "metadata": {},
      "outputs": [],
      "source": [
        "# noise = (1 / 0.18215) * noise\n",
        "# with torch.no_grad():\n",
        "#     image = diffusion_model.vae.decode(noise).sample\n",
        "\n",
        "image = noise\n",
        "image = (image / 2 + 0.5).clamp(0, 1)\n",
        "image = image.detach().cpu().permute(0, 2, 3, 1).numpy()\n",
        "images = (image * 255).round().astype(\"uint8\")\n",
        "# pil_images = [Image.fromarray(image) for image in images][0]\n",
        "# pil_images"
      ]
    },
    {
      "cell_type": "code",
      "execution_count": 40,
      "metadata": {},
      "outputs": [],
      "source": [
        "Image.fromarray(images[0]).save(os.path.join('./', f\"image.png\"))"
      ]
    }
  ],
  "metadata": {
    "accelerator": "GPU",
    "colab": {
      "gpuType": "T4",
      "provenance": []
    },
    "kernelspec": {
      "display_name": "Python 3",
      "name": "python3"
    },
    "language_info": {
      "codemirror_mode": {
        "name": "ipython",
        "version": 3
      },
      "file_extension": ".py",
      "mimetype": "text/x-python",
      "name": "python",
      "nbconvert_exporter": "python",
      "pygments_lexer": "ipython3",
      "version": "3.10.11"
    },
    "widgets": {
      "application/vnd.jupyter.widget-state+json": {
        "0881dcd83583466e8a1314295a5f84de": {
          "model_module": "@jupyter-widgets/controls",
          "model_module_version": "1.5.0",
          "model_name": "ProgressStyleModel",
          "state": {
            "_model_module": "@jupyter-widgets/controls",
            "_model_module_version": "1.5.0",
            "_model_name": "ProgressStyleModel",
            "_view_count": null,
            "_view_module": "@jupyter-widgets/base",
            "_view_module_version": "1.2.0",
            "_view_name": "StyleView",
            "bar_color": null,
            "description_width": ""
          }
        },
        "19fe3745885345b9ae56e9076be08521": {
          "model_module": "@jupyter-widgets/controls",
          "model_module_version": "1.5.0",
          "model_name": "DescriptionStyleModel",
          "state": {
            "_model_module": "@jupyter-widgets/controls",
            "_model_module_version": "1.5.0",
            "_model_name": "DescriptionStyleModel",
            "_view_count": null,
            "_view_module": "@jupyter-widgets/base",
            "_view_module_version": "1.2.0",
            "_view_name": "StyleView",
            "description_width": ""
          }
        },
        "1b368283c80c400a941caa8a80fd5eb4": {
          "model_module": "@jupyter-widgets/base",
          "model_module_version": "1.2.0",
          "model_name": "LayoutModel",
          "state": {
            "_model_module": "@jupyter-widgets/base",
            "_model_module_version": "1.2.0",
            "_model_name": "LayoutModel",
            "_view_count": null,
            "_view_module": "@jupyter-widgets/base",
            "_view_module_version": "1.2.0",
            "_view_name": "LayoutView",
            "align_content": null,
            "align_items": null,
            "align_self": null,
            "border": null,
            "bottom": null,
            "display": null,
            "flex": null,
            "flex_flow": null,
            "grid_area": null,
            "grid_auto_columns": null,
            "grid_auto_flow": null,
            "grid_auto_rows": null,
            "grid_column": null,
            "grid_gap": null,
            "grid_row": null,
            "grid_template_areas": null,
            "grid_template_columns": null,
            "grid_template_rows": null,
            "height": null,
            "justify_content": null,
            "justify_items": null,
            "left": null,
            "margin": null,
            "max_height": null,
            "max_width": null,
            "min_height": null,
            "min_width": null,
            "object_fit": null,
            "object_position": null,
            "order": null,
            "overflow": null,
            "overflow_x": null,
            "overflow_y": null,
            "padding": null,
            "right": null,
            "top": null,
            "visibility": null,
            "width": null
          }
        },
        "23566d56976540379802efe582b3c94d": {
          "model_module": "@jupyter-widgets/controls",
          "model_module_version": "1.5.0",
          "model_name": "HBoxModel",
          "state": {
            "_dom_classes": [],
            "_model_module": "@jupyter-widgets/controls",
            "_model_module_version": "1.5.0",
            "_model_name": "HBoxModel",
            "_view_count": null,
            "_view_module": "@jupyter-widgets/controls",
            "_view_module_version": "1.5.0",
            "_view_name": "HBoxView",
            "box_style": "",
            "children": [
              "IPY_MODEL_b901ad40a66a47f284cb22be25d5dbad",
              "IPY_MODEL_a942a5a1a54b4cd49f6d67aac227e6ca",
              "IPY_MODEL_66f341b1e795414eb18cd9d037a1e941"
            ],
            "layout": "IPY_MODEL_fa535e733e82433fb70cf2702dc31555"
          }
        },
        "32a271d4f38d49d9abc308ae881e996a": {
          "model_module": "@jupyter-widgets/controls",
          "model_module_version": "1.5.0",
          "model_name": "DescriptionStyleModel",
          "state": {
            "_model_module": "@jupyter-widgets/controls",
            "_model_module_version": "1.5.0",
            "_model_name": "DescriptionStyleModel",
            "_view_count": null,
            "_view_module": "@jupyter-widgets/base",
            "_view_module_version": "1.2.0",
            "_view_name": "StyleView",
            "description_width": ""
          }
        },
        "364faf31bcad4e5da5761570dea950e0": {
          "model_module": "@jupyter-widgets/controls",
          "model_module_version": "1.5.0",
          "model_name": "HTMLModel",
          "state": {
            "_dom_classes": [],
            "_model_module": "@jupyter-widgets/controls",
            "_model_module_version": "1.5.0",
            "_model_name": "HTMLModel",
            "_view_count": null,
            "_view_module": "@jupyter-widgets/controls",
            "_view_module_version": "1.5.0",
            "_view_name": "HTMLView",
            "description": "",
            "description_tooltip": null,
            "layout": "IPY_MODEL_63686c913d1949a8ba1303edcdf57e40",
            "placeholder": "​",
            "style": "IPY_MODEL_980b8283283848d58dc07749ceb62776",
            "value": "Epoch 0:   0%"
          }
        },
        "50af040601334ac6989315c0f1d0fae8": {
          "model_module": "@jupyter-widgets/controls",
          "model_module_version": "1.5.0",
          "model_name": "FloatProgressModel",
          "state": {
            "_dom_classes": [],
            "_model_module": "@jupyter-widgets/controls",
            "_model_module_version": "1.5.0",
            "_model_name": "FloatProgressModel",
            "_view_count": null,
            "_view_module": "@jupyter-widgets/controls",
            "_view_module_version": "1.5.0",
            "_view_name": "ProgressView",
            "bar_style": "",
            "description": "",
            "description_tooltip": null,
            "layout": "IPY_MODEL_88c1991bca544ead9963ec85d67ce77f",
            "max": 6250,
            "min": 0,
            "orientation": "horizontal",
            "style": "IPY_MODEL_0881dcd83583466e8a1314295a5f84de",
            "value": 0
          }
        },
        "545d688da01044fc93c3757c0fce0fd4": {
          "model_module": "@jupyter-widgets/base",
          "model_module_version": "1.2.0",
          "model_name": "LayoutModel",
          "state": {
            "_model_module": "@jupyter-widgets/base",
            "_model_module_version": "1.2.0",
            "_model_name": "LayoutModel",
            "_view_count": null,
            "_view_module": "@jupyter-widgets/base",
            "_view_module_version": "1.2.0",
            "_view_name": "LayoutView",
            "align_content": null,
            "align_items": null,
            "align_self": null,
            "border": null,
            "bottom": null,
            "display": null,
            "flex": null,
            "flex_flow": null,
            "grid_area": null,
            "grid_auto_columns": null,
            "grid_auto_flow": null,
            "grid_auto_rows": null,
            "grid_column": null,
            "grid_gap": null,
            "grid_row": null,
            "grid_template_areas": null,
            "grid_template_columns": null,
            "grid_template_rows": null,
            "height": null,
            "justify_content": null,
            "justify_items": null,
            "left": null,
            "margin": null,
            "max_height": null,
            "max_width": null,
            "min_height": null,
            "min_width": null,
            "object_fit": null,
            "object_position": null,
            "order": null,
            "overflow": null,
            "overflow_x": null,
            "overflow_y": null,
            "padding": null,
            "right": null,
            "top": null,
            "visibility": null,
            "width": null
          }
        },
        "5a200b8e59964542b51394ce8f4213cc": {
          "model_module": "@jupyter-widgets/controls",
          "model_module_version": "1.5.0",
          "model_name": "ProgressStyleModel",
          "state": {
            "_model_module": "@jupyter-widgets/controls",
            "_model_module_version": "1.5.0",
            "_model_name": "ProgressStyleModel",
            "_view_count": null,
            "_view_module": "@jupyter-widgets/base",
            "_view_module_version": "1.2.0",
            "_view_name": "StyleView",
            "bar_color": null,
            "description_width": ""
          }
        },
        "63686c913d1949a8ba1303edcdf57e40": {
          "model_module": "@jupyter-widgets/base",
          "model_module_version": "1.2.0",
          "model_name": "LayoutModel",
          "state": {
            "_model_module": "@jupyter-widgets/base",
            "_model_module_version": "1.2.0",
            "_model_name": "LayoutModel",
            "_view_count": null,
            "_view_module": "@jupyter-widgets/base",
            "_view_module_version": "1.2.0",
            "_view_name": "LayoutView",
            "align_content": null,
            "align_items": null,
            "align_self": null,
            "border": null,
            "bottom": null,
            "display": null,
            "flex": null,
            "flex_flow": null,
            "grid_area": null,
            "grid_auto_columns": null,
            "grid_auto_flow": null,
            "grid_auto_rows": null,
            "grid_column": null,
            "grid_gap": null,
            "grid_row": null,
            "grid_template_areas": null,
            "grid_template_columns": null,
            "grid_template_rows": null,
            "height": null,
            "justify_content": null,
            "justify_items": null,
            "left": null,
            "margin": null,
            "max_height": null,
            "max_width": null,
            "min_height": null,
            "min_width": null,
            "object_fit": null,
            "object_position": null,
            "order": null,
            "overflow": null,
            "overflow_x": null,
            "overflow_y": null,
            "padding": null,
            "right": null,
            "top": null,
            "visibility": null,
            "width": null
          }
        },
        "66ab55fda50148eea94e29d94c8c537a": {
          "model_module": "@jupyter-widgets/controls",
          "model_module_version": "1.5.0",
          "model_name": "DescriptionStyleModel",
          "state": {
            "_model_module": "@jupyter-widgets/controls",
            "_model_module_version": "1.5.0",
            "_model_name": "DescriptionStyleModel",
            "_view_count": null,
            "_view_module": "@jupyter-widgets/base",
            "_view_module_version": "1.2.0",
            "_view_name": "StyleView",
            "description_width": ""
          }
        },
        "66f341b1e795414eb18cd9d037a1e941": {
          "model_module": "@jupyter-widgets/controls",
          "model_module_version": "1.5.0",
          "model_name": "HTMLModel",
          "state": {
            "_dom_classes": [],
            "_model_module": "@jupyter-widgets/controls",
            "_model_module_version": "1.5.0",
            "_model_name": "HTMLModel",
            "_view_count": null,
            "_view_module": "@jupyter-widgets/controls",
            "_view_module_version": "1.5.0",
            "_view_name": "HTMLView",
            "description": "",
            "description_tooltip": null,
            "layout": "IPY_MODEL_1b368283c80c400a941caa8a80fd5eb4",
            "placeholder": "​",
            "style": "IPY_MODEL_19fe3745885345b9ae56e9076be08521",
            "value": " 2/2 [00:01&lt;00:00,  1.06it/s]"
          }
        },
        "670c0d3bda414e02abd68e8cb10e3700": {
          "model_module": "@jupyter-widgets/base",
          "model_module_version": "1.2.0",
          "model_name": "LayoutModel",
          "state": {
            "_model_module": "@jupyter-widgets/base",
            "_model_module_version": "1.2.0",
            "_model_name": "LayoutModel",
            "_view_count": null,
            "_view_module": "@jupyter-widgets/base",
            "_view_module_version": "1.2.0",
            "_view_name": "LayoutView",
            "align_content": null,
            "align_items": null,
            "align_self": null,
            "border": null,
            "bottom": null,
            "display": null,
            "flex": "2",
            "flex_flow": null,
            "grid_area": null,
            "grid_auto_columns": null,
            "grid_auto_flow": null,
            "grid_auto_rows": null,
            "grid_column": null,
            "grid_gap": null,
            "grid_row": null,
            "grid_template_areas": null,
            "grid_template_columns": null,
            "grid_template_rows": null,
            "height": null,
            "justify_content": null,
            "justify_items": null,
            "left": null,
            "margin": null,
            "max_height": null,
            "max_width": null,
            "min_height": null,
            "min_width": null,
            "object_fit": null,
            "object_position": null,
            "order": null,
            "overflow": null,
            "overflow_x": null,
            "overflow_y": null,
            "padding": null,
            "right": null,
            "top": null,
            "visibility": null,
            "width": null
          }
        },
        "78dc09a81b214a6c8fb7a215e7359a1a": {
          "model_module": "@jupyter-widgets/base",
          "model_module_version": "1.2.0",
          "model_name": "LayoutModel",
          "state": {
            "_model_module": "@jupyter-widgets/base",
            "_model_module_version": "1.2.0",
            "_model_name": "LayoutModel",
            "_view_count": null,
            "_view_module": "@jupyter-widgets/base",
            "_view_module_version": "1.2.0",
            "_view_name": "LayoutView",
            "align_content": null,
            "align_items": null,
            "align_self": null,
            "border": null,
            "bottom": null,
            "display": null,
            "flex": null,
            "flex_flow": null,
            "grid_area": null,
            "grid_auto_columns": null,
            "grid_auto_flow": null,
            "grid_auto_rows": null,
            "grid_column": null,
            "grid_gap": null,
            "grid_row": null,
            "grid_template_areas": null,
            "grid_template_columns": null,
            "grid_template_rows": null,
            "height": null,
            "justify_content": null,
            "justify_items": null,
            "left": null,
            "margin": null,
            "max_height": null,
            "max_width": null,
            "min_height": null,
            "min_width": null,
            "object_fit": null,
            "object_position": null,
            "order": null,
            "overflow": null,
            "overflow_x": null,
            "overflow_y": null,
            "padding": null,
            "right": null,
            "top": null,
            "visibility": null,
            "width": null
          }
        },
        "88c1991bca544ead9963ec85d67ce77f": {
          "model_module": "@jupyter-widgets/base",
          "model_module_version": "1.2.0",
          "model_name": "LayoutModel",
          "state": {
            "_model_module": "@jupyter-widgets/base",
            "_model_module_version": "1.2.0",
            "_model_name": "LayoutModel",
            "_view_count": null,
            "_view_module": "@jupyter-widgets/base",
            "_view_module_version": "1.2.0",
            "_view_name": "LayoutView",
            "align_content": null,
            "align_items": null,
            "align_self": null,
            "border": null,
            "bottom": null,
            "display": null,
            "flex": "2",
            "flex_flow": null,
            "grid_area": null,
            "grid_auto_columns": null,
            "grid_auto_flow": null,
            "grid_auto_rows": null,
            "grid_column": null,
            "grid_gap": null,
            "grid_row": null,
            "grid_template_areas": null,
            "grid_template_columns": null,
            "grid_template_rows": null,
            "height": null,
            "justify_content": null,
            "justify_items": null,
            "left": null,
            "margin": null,
            "max_height": null,
            "max_width": null,
            "min_height": null,
            "min_width": null,
            "object_fit": null,
            "object_position": null,
            "order": null,
            "overflow": null,
            "overflow_x": null,
            "overflow_y": null,
            "padding": null,
            "right": null,
            "top": null,
            "visibility": null,
            "width": null
          }
        },
        "980b8283283848d58dc07749ceb62776": {
          "model_module": "@jupyter-widgets/controls",
          "model_module_version": "1.5.0",
          "model_name": "DescriptionStyleModel",
          "state": {
            "_model_module": "@jupyter-widgets/controls",
            "_model_module_version": "1.5.0",
            "_model_name": "DescriptionStyleModel",
            "_view_count": null,
            "_view_module": "@jupyter-widgets/base",
            "_view_module_version": "1.2.0",
            "_view_name": "StyleView",
            "description_width": ""
          }
        },
        "a942a5a1a54b4cd49f6d67aac227e6ca": {
          "model_module": "@jupyter-widgets/controls",
          "model_module_version": "1.5.0",
          "model_name": "FloatProgressModel",
          "state": {
            "_dom_classes": [],
            "_model_module": "@jupyter-widgets/controls",
            "_model_module_version": "1.5.0",
            "_model_name": "FloatProgressModel",
            "_view_count": null,
            "_view_module": "@jupyter-widgets/controls",
            "_view_module_version": "1.5.0",
            "_view_name": "ProgressView",
            "bar_style": "",
            "description": "",
            "description_tooltip": null,
            "layout": "IPY_MODEL_670c0d3bda414e02abd68e8cb10e3700",
            "max": 2,
            "min": 0,
            "orientation": "horizontal",
            "style": "IPY_MODEL_5a200b8e59964542b51394ce8f4213cc",
            "value": 2
          }
        },
        "b901ad40a66a47f284cb22be25d5dbad": {
          "model_module": "@jupyter-widgets/controls",
          "model_module_version": "1.5.0",
          "model_name": "HTMLModel",
          "state": {
            "_dom_classes": [],
            "_model_module": "@jupyter-widgets/controls",
            "_model_module_version": "1.5.0",
            "_model_name": "HTMLModel",
            "_view_count": null,
            "_view_module": "@jupyter-widgets/controls",
            "_view_module_version": "1.5.0",
            "_view_name": "HTMLView",
            "description": "",
            "description_tooltip": null,
            "layout": "IPY_MODEL_545d688da01044fc93c3757c0fce0fd4",
            "placeholder": "​",
            "style": "IPY_MODEL_32a271d4f38d49d9abc308ae881e996a",
            "value": "Sanity Checking DataLoader 0: 100%"
          }
        },
        "b964978b41564dbaa36b7955bf950b4e": {
          "model_module": "@jupyter-widgets/controls",
          "model_module_version": "1.5.0",
          "model_name": "HBoxModel",
          "state": {
            "_dom_classes": [],
            "_model_module": "@jupyter-widgets/controls",
            "_model_module_version": "1.5.0",
            "_model_name": "HBoxModel",
            "_view_count": null,
            "_view_module": "@jupyter-widgets/controls",
            "_view_module_version": "1.5.0",
            "_view_name": "HBoxView",
            "box_style": "",
            "children": [
              "IPY_MODEL_364faf31bcad4e5da5761570dea950e0",
              "IPY_MODEL_50af040601334ac6989315c0f1d0fae8",
              "IPY_MODEL_d6c7dcaf643048beb69222d322e8c2f2"
            ],
            "layout": "IPY_MODEL_c248289ff0b04578b8b540eb804feecc"
          }
        },
        "c248289ff0b04578b8b540eb804feecc": {
          "model_module": "@jupyter-widgets/base",
          "model_module_version": "1.2.0",
          "model_name": "LayoutModel",
          "state": {
            "_model_module": "@jupyter-widgets/base",
            "_model_module_version": "1.2.0",
            "_model_name": "LayoutModel",
            "_view_count": null,
            "_view_module": "@jupyter-widgets/base",
            "_view_module_version": "1.2.0",
            "_view_name": "LayoutView",
            "align_content": null,
            "align_items": null,
            "align_self": null,
            "border": null,
            "bottom": null,
            "display": "inline-flex",
            "flex": null,
            "flex_flow": "row wrap",
            "grid_area": null,
            "grid_auto_columns": null,
            "grid_auto_flow": null,
            "grid_auto_rows": null,
            "grid_column": null,
            "grid_gap": null,
            "grid_row": null,
            "grid_template_areas": null,
            "grid_template_columns": null,
            "grid_template_rows": null,
            "height": null,
            "justify_content": null,
            "justify_items": null,
            "left": null,
            "margin": null,
            "max_height": null,
            "max_width": null,
            "min_height": null,
            "min_width": null,
            "object_fit": null,
            "object_position": null,
            "order": null,
            "overflow": null,
            "overflow_x": null,
            "overflow_y": null,
            "padding": null,
            "right": null,
            "top": null,
            "visibility": null,
            "width": "100%"
          }
        },
        "d6c7dcaf643048beb69222d322e8c2f2": {
          "model_module": "@jupyter-widgets/controls",
          "model_module_version": "1.5.0",
          "model_name": "HTMLModel",
          "state": {
            "_dom_classes": [],
            "_model_module": "@jupyter-widgets/controls",
            "_model_module_version": "1.5.0",
            "_model_name": "HTMLModel",
            "_view_count": null,
            "_view_module": "@jupyter-widgets/controls",
            "_view_module_version": "1.5.0",
            "_view_name": "HTMLView",
            "description": "",
            "description_tooltip": null,
            "layout": "IPY_MODEL_78dc09a81b214a6c8fb7a215e7359a1a",
            "placeholder": "​",
            "style": "IPY_MODEL_66ab55fda50148eea94e29d94c8c537a",
            "value": " 0/6250 [00:00&lt;?, ?it/s]"
          }
        },
        "fa535e733e82433fb70cf2702dc31555": {
          "model_module": "@jupyter-widgets/base",
          "model_module_version": "1.2.0",
          "model_name": "LayoutModel",
          "state": {
            "_model_module": "@jupyter-widgets/base",
            "_model_module_version": "1.2.0",
            "_model_name": "LayoutModel",
            "_view_count": null,
            "_view_module": "@jupyter-widgets/base",
            "_view_module_version": "1.2.0",
            "_view_name": "LayoutView",
            "align_content": null,
            "align_items": null,
            "align_self": null,
            "border": null,
            "bottom": null,
            "display": "inline-flex",
            "flex": null,
            "flex_flow": "row wrap",
            "grid_area": null,
            "grid_auto_columns": null,
            "grid_auto_flow": null,
            "grid_auto_rows": null,
            "grid_column": null,
            "grid_gap": null,
            "grid_row": null,
            "grid_template_areas": null,
            "grid_template_columns": null,
            "grid_template_rows": null,
            "height": null,
            "justify_content": null,
            "justify_items": null,
            "left": null,
            "margin": null,
            "max_height": null,
            "max_width": null,
            "min_height": null,
            "min_width": null,
            "object_fit": null,
            "object_position": null,
            "order": null,
            "overflow": null,
            "overflow_x": null,
            "overflow_y": null,
            "padding": null,
            "right": null,
            "top": null,
            "visibility": "hidden",
            "width": "100%"
          }
        }
      }
    }
  },
  "nbformat": 4,
  "nbformat_minor": 0
}
